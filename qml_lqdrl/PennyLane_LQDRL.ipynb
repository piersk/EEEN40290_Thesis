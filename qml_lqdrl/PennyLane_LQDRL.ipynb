{
 "cells": [
  {
   "cell_type": "code",
   "execution_count": 14,
   "id": "58f08491-4882-4828-b498-b4e442c5be70",
   "metadata": {},
   "outputs": [],
   "source": [
    "import pennylane as qml\n",
    "from pennylane import numpy as np\n",
    "from pennylane import grad\n",
    "import matplotlib"
   ]
  },
  {
   "cell_type": "code",
   "execution_count": 15,
   "id": "33990b0a-d359-4cc7-84d8-ff4e90fe527d",
   "metadata": {},
   "outputs": [],
   "source": [
    "#n_qubits = 17\n",
    "dev = qml.device(\"default.qubit\", wires=n_qubits)\n",
    "\n",
    "# Quantum Layer: First LQ Embed Layer\n",
    "def lq_embed_1(theta, theta_par):\n",
    "    for h in range(n_qubits):\n",
    "        qml.Hadamard(wires=h)\n",
    "    for i in range(n_qubits):\n",
    "        qml.RX(theta[i], wires=i)\n",
    "    for i in range(n_qubits - 1):\n",
    "        qml.CZ(wires=[i, i+1])\n",
    "    for i in range(n_qubits):\n",
    "        qml.RY(theta_par[i], wires=i)\n",
    "\n",
    "# Quantum Layer: Subsequent Layers\n",
    "def lq_embed_m(theta, theta_par):\n",
    "    for i in range(n_qubits):\n",
    "        qml.RX(theta[i], wires=i)\n",
    "    for i in range(n_qubits - 1):\n",
    "        qml.CZ(wires=[i, i+1])\n",
    "    for i in range(n_qubits):\n",
    "        qml.RY(theta_par[i], wires=i)\n",
    "\n",
    "# Full Layerwise Ansatz\n",
    "@qml.qnode(dev, interface=\"autograd\")\n",
    "def critic_qnode(inputs, weights):\n",
    "    lq_embed_1(inputs, weights[0])\n",
    "    for m in range(1, len(weights)):\n",
    "        lq_embed_m(inputs, weights[m])\n",
    "    return qml.expval(qml.PauliZ(0))"
   ]
  },
  {
   "cell_type": "code",
   "execution_count": 16,
   "id": "f92a940e-9733-4ebc-ad60-e53915469ca5",
   "metadata": {},
   "outputs": [
    {
     "name": "stdout",
     "output_type": "stream",
     "text": [
      "JAX version: 0.4.25\n",
      "PennyLane version: 0.37.0\n"
     ]
    }
   ],
   "source": [
    "import jax\n",
    "import pennylane as qml\n",
    "\n",
    "print(\"JAX version:\", jax.__version__)\n",
    "print(\"PennyLane version:\", qml.__version__)"
   ]
  },
  {
   "cell_type": "code",
   "execution_count": 17,
   "id": "d0a59ef6-3556-4d54-85ef-68367115cf95",
   "metadata": {},
   "outputs": [],
   "source": [
    "@qml.qnode(dev)\n",
    "def actor_qnode(state_input, theta, theta_par):\n",
    "    # Apply Hadamard\n",
    "    for i in range(n_qubits):\n",
    "        qml.Hadamard(wires=i)\n",
    "    \n",
    "    # RX with state-dependent angle\n",
    "    for i in range(n_qubits):\n",
    "        qml.RX(state_input[i], wires=i)\n",
    "    \n",
    "    # Entanglement (CZ between neighbours)\n",
    "    for i in range(n_qubits - 1):\n",
    "        qml.CZ(wires=[i, i+1])\n",
    "    \n",
    "    # RY with trainable parameter\n",
    "    for i in range(n_qubits):\n",
    "        qml.RY(theta_par[i], wires=i)\n",
    "    \n",
    "    # Measurement\n",
    "    return [qml.expval(qml.PauliZ(i)) for i in range(n_qubits)]"
   ]
  },
  {
   "cell_type": "code",
   "execution_count": 18,
   "id": "fd65cab4-315c-45a4-93f2-e2f075f24a29",
   "metadata": {},
   "outputs": [],
   "source": [
    "@qml.qnode(dev)\n",
    "def critic_qnode(critic_input, theta, theta_par):\n",
    "    # Build same ansatz as above, with critic_input\n",
    "    for i in range(n_qubits):\n",
    "        qml.Hadamard(wires=i)\n",
    "        qml.RX(critic_input[i], wires=i)\n",
    "\n",
    "    for i in range(n_qubits - 1):\n",
    "        qml.CZ(wires=[i, i+1])\n",
    "\n",
    "    for i in range(n_qubits):\n",
    "        qml.RY(theta_par[i], wires=i)\n",
    "\n",
    "    # Q-value output (e.g., Z₀ expectation)\n",
    "    return qml.expval(qml.PauliZ(0))"
   ]
  },
  {
   "cell_type": "code",
   "execution_count": 20,
   "id": "61a6918a-568d-4924-a141-93aecf5c79b5",
   "metadata": {},
   "outputs": [
    {
     "name": "stdout",
     "output_type": "stream",
     "text": [
      "22\n"
     ]
    },
    {
     "ename": "IndexError",
     "evalue": "list index out of range",
     "output_type": "error",
     "traceback": [
      "\u001b[31m---------------------------------------------------------------------------\u001b[39m",
      "\u001b[31mIndexError\u001b[39m                                Traceback (most recent call last)",
      "\u001b[36mCell\u001b[39m\u001b[36m \u001b[39m\u001b[32mIn[20]\u001b[39m\u001b[32m, line 40\u001b[39m\n\u001b[32m     37\u001b[39m theta_par = np.random.randn(n_qubits, requires_grad=\u001b[38;5;28;01mTrue\u001b[39;00m)\n\u001b[32m     39\u001b[39m \u001b[38;5;66;03m# Forward pass\u001b[39;00m\n\u001b[32m---> \u001b[39m\u001b[32m40\u001b[39m q_vals = \u001b[43mactor_qnode\u001b[49m\u001b[43m(\u001b[49m\u001b[43mcrit_inp_vec\u001b[49m\u001b[43m,\u001b[49m\u001b[43m \u001b[49m\u001b[43mtheta\u001b[49m\u001b[43m,\u001b[49m\u001b[43m \u001b[49m\u001b[43mtheta_par\u001b[49m\u001b[43m)\u001b[49m\n\u001b[32m     41\u001b[39m q_val = critic_qnode(full_input, theta, theta_par)\n",
      "\u001b[36mFile \u001b[39m\u001b[32m~/Documents/engineering/mengsc/semester_3/eeen40290_mengsc_project/workings/code/qml_lqdrl/pl_lqdrl_env/lib64/python3.11/site-packages/pennylane/workflow/qnode.py:1164\u001b[39m, in \u001b[36mQNode.__call__\u001b[39m\u001b[34m(self, *args, **kwargs)\u001b[39m\n\u001b[32m   1162\u001b[39m \u001b[38;5;28;01mif\u001b[39;00m qml.capture.enabled():\n\u001b[32m   1163\u001b[39m     \u001b[38;5;28;01mreturn\u001b[39;00m qml.capture.qnode_call(\u001b[38;5;28mself\u001b[39m, *args, **kwargs)\n\u001b[32m-> \u001b[39m\u001b[32m1164\u001b[39m \u001b[38;5;28;01mreturn\u001b[39;00m \u001b[38;5;28;43mself\u001b[39;49m\u001b[43m.\u001b[49m\u001b[43m_impl_call\u001b[49m\u001b[43m(\u001b[49m\u001b[43m*\u001b[49m\u001b[43margs\u001b[49m\u001b[43m,\u001b[49m\u001b[43m \u001b[49m\u001b[43m*\u001b[49m\u001b[43m*\u001b[49m\u001b[43mkwargs\u001b[49m\u001b[43m)\u001b[49m\n",
      "\u001b[36mFile \u001b[39m\u001b[32m~/Documents/engineering/mengsc/semester_3/eeen40290_mengsc_project/workings/code/qml_lqdrl/pl_lqdrl_env/lib64/python3.11/site-packages/pennylane/workflow/qnode.py:1144\u001b[39m, in \u001b[36mQNode._impl_call\u001b[39m\u001b[34m(self, *args, **kwargs)\u001b[39m\n\u001b[32m   1141\u001b[39m     override_shots = kwargs[\u001b[33m\"\u001b[39m\u001b[33mshots\u001b[39m\u001b[33m\"\u001b[39m]\n\u001b[32m   1143\u001b[39m \u001b[38;5;66;03m# construct the tape\u001b[39;00m\n\u001b[32m-> \u001b[39m\u001b[32m1144\u001b[39m \u001b[38;5;28;43mself\u001b[39;49m\u001b[43m.\u001b[49m\u001b[43mconstruct\u001b[49m\u001b[43m(\u001b[49m\u001b[43margs\u001b[49m\u001b[43m,\u001b[49m\u001b[43m \u001b[49m\u001b[43mkwargs\u001b[49m\u001b[43m)\u001b[49m\n\u001b[32m   1146\u001b[39m original_grad_fn = [\u001b[38;5;28mself\u001b[39m.gradient_fn, \u001b[38;5;28mself\u001b[39m.gradient_kwargs, \u001b[38;5;28mself\u001b[39m.device]\n\u001b[32m   1147\u001b[39m \u001b[38;5;28mself\u001b[39m._update_gradient_fn(shots=override_shots, tape=\u001b[38;5;28mself\u001b[39m._tape)\n",
      "\u001b[36mFile \u001b[39m\u001b[32m~/Documents/engineering/mengsc/semester_3/eeen40290_mengsc_project/workings/code/qml_lqdrl/pl_lqdrl_env/lib64/python3.11/site-packages/pennylane/logging/decorators.py:61\u001b[39m, in \u001b[36mlog_string_debug_func.<locals>.wrapper_entry\u001b[39m\u001b[34m(*args, **kwargs)\u001b[39m\n\u001b[32m     54\u001b[39m     s_caller = \u001b[33m\"\u001b[39m\u001b[33m::L\u001b[39m\u001b[33m\"\u001b[39m.join(\n\u001b[32m     55\u001b[39m         [\u001b[38;5;28mstr\u001b[39m(i) \u001b[38;5;28;01mfor\u001b[39;00m i \u001b[38;5;129;01min\u001b[39;00m inspect.getouterframes(inspect.currentframe(), \u001b[32m2\u001b[39m)[\u001b[32m1\u001b[39m][\u001b[32m1\u001b[39m:\u001b[32m3\u001b[39m]]\n\u001b[32m     56\u001b[39m     )\n\u001b[32m     57\u001b[39m     lgr.debug(\n\u001b[32m     58\u001b[39m         \u001b[33mf\u001b[39m\u001b[33m\"\u001b[39m\u001b[33mCalling \u001b[39m\u001b[38;5;132;01m{\u001b[39;00mf_string\u001b[38;5;132;01m}\u001b[39;00m\u001b[33m from \u001b[39m\u001b[38;5;132;01m{\u001b[39;00ms_caller\u001b[38;5;132;01m}\u001b[39;00m\u001b[33m\"\u001b[39m,\n\u001b[32m     59\u001b[39m         **_debug_log_kwargs,\n\u001b[32m     60\u001b[39m     )\n\u001b[32m---> \u001b[39m\u001b[32m61\u001b[39m \u001b[38;5;28;01mreturn\u001b[39;00m \u001b[43mfunc\u001b[49m\u001b[43m(\u001b[49m\u001b[43m*\u001b[49m\u001b[43margs\u001b[49m\u001b[43m,\u001b[49m\u001b[43m \u001b[49m\u001b[43m*\u001b[49m\u001b[43m*\u001b[49m\u001b[43mkwargs\u001b[49m\u001b[43m)\u001b[49m\n",
      "\u001b[36mFile \u001b[39m\u001b[32m~/Documents/engineering/mengsc/semester_3/eeen40290_mengsc_project/workings/code/qml_lqdrl/pl_lqdrl_env/lib64/python3.11/site-packages/pennylane/workflow/qnode.py:966\u001b[39m, in \u001b[36mQNode.construct\u001b[39m\u001b[34m(self, args, kwargs)\u001b[39m\n\u001b[32m    964\u001b[39m \u001b[38;5;28;01mwith\u001b[39;00m pldb_device_manager(\u001b[38;5;28mself\u001b[39m.device):\n\u001b[32m    965\u001b[39m     \u001b[38;5;28;01mwith\u001b[39;00m qml.queuing.AnnotatedQueue() \u001b[38;5;28;01mas\u001b[39;00m q:\n\u001b[32m--> \u001b[39m\u001b[32m966\u001b[39m         \u001b[38;5;28mself\u001b[39m._qfunc_output = \u001b[38;5;28;43mself\u001b[39;49m\u001b[43m.\u001b[49m\u001b[43mfunc\u001b[49m\u001b[43m(\u001b[49m\u001b[43m*\u001b[49m\u001b[43margs\u001b[49m\u001b[43m,\u001b[49m\u001b[43m \u001b[49m\u001b[43m*\u001b[49m\u001b[43m*\u001b[49m\u001b[43mkwargs\u001b[49m\u001b[43m)\u001b[49m\n\u001b[32m    968\u001b[39m \u001b[38;5;28mself\u001b[39m._tape = QuantumScript.from_queue(q, shots)\n\u001b[32m    970\u001b[39m params = \u001b[38;5;28mself\u001b[39m.tape.get_parameters(trainable_only=\u001b[38;5;28;01mFalse\u001b[39;00m)\n",
      "\u001b[36mCell\u001b[39m\u001b[36m \u001b[39m\u001b[32mIn[17]\u001b[39m\u001b[32m, line 9\u001b[39m, in \u001b[36mactor_qnode\u001b[39m\u001b[34m(state_input, theta, theta_par)\u001b[39m\n\u001b[32m      7\u001b[39m \u001b[38;5;66;03m# RX with state-dependent angle\u001b[39;00m\n\u001b[32m      8\u001b[39m \u001b[38;5;28;01mfor\u001b[39;00m i \u001b[38;5;129;01min\u001b[39;00m \u001b[38;5;28mrange\u001b[39m(n_qubits):\n\u001b[32m----> \u001b[39m\u001b[32m9\u001b[39m     qml.RX(\u001b[43mstate_input\u001b[49m\u001b[43m[\u001b[49m\u001b[43mi\u001b[49m\u001b[43m]\u001b[49m, wires=i)\n\u001b[32m     11\u001b[39m \u001b[38;5;66;03m# Entanglement (CZ between neighbours)\u001b[39;00m\n\u001b[32m     12\u001b[39m \u001b[38;5;28;01mfor\u001b[39;00m i \u001b[38;5;129;01min\u001b[39;00m \u001b[38;5;28mrange\u001b[39m(n_qubits - \u001b[32m1\u001b[39m):\n",
      "\u001b[31mIndexError\u001b[39m: list index out of range"
     ]
    }
   ],
   "source": [
    "m_layers = 3\n",
    "E_rem = 500e03\n",
    "num_gus = 4\n",
    "u = []\n",
    "uav_pos = [0, 0, 0]\n",
    "uav_v_max = 30\n",
    "zeta_v = 1\n",
    "uav_v = zeta_v * uav_v_max\n",
    "noma_g = [1, 2, 3]\n",
    "pwr_alloc = 1\n",
    "action_vec = []\n",
    "\n",
    "action_vec.append(uav_v)\n",
    "for k in range(len(noma_g)):\n",
    "    action_vec.append(noma_g[k])\n",
    "action_vec.append(pwr_alloc)\n",
    "\n",
    "crit_inp_vec = []\n",
    "\n",
    "for i in range(len(uav_pos)):\n",
    "    crit_inp_vec.append(uav_pos[i])\n",
    "crit_inp_vec.append(E_rem)\n",
    "for j in range(2*num_gus):\n",
    "    u.append(j)\n",
    "    crit_inp_vec.append(u[j])\n",
    "crit_inp_vec.append(uav_v)\n",
    "for k in range(len(noma_g)):\n",
    "    crit_inp_vec.append(noma_g[k])\n",
    "crit_inp_vec.append(pwr_alloc)\n",
    "\n",
    "#full_input = np.concatenate([crit_inp_vec, action_vec])\n",
    "full_input = crit_inp_vec\n",
    "\n",
    "n_qubits = len(full_input)\n",
    "print(n_qubits)\n",
    "\n",
    "theta = np.zeros(n_qubits, requires_grad=False)\n",
    "theta_par = np.random.randn(n_qubits, requires_grad=True)\n",
    "\n",
    "# Forward pass\n",
    "q_vals = actor_qnode(crit_inp_vec, theta, theta_par)\n",
    "q_val = critic_qnode(full_input, theta, theta_par)"
   ]
  },
  {
   "cell_type": "code",
   "execution_count": 12,
   "id": "0f8b21e8-9210-4e24-9f53-155ae626e5fb",
   "metadata": {},
   "outputs": [],
   "source": [
    "critic_grad_fn = qml.grad(critic_qnode, argnum=2)\n",
    "grad_vals = critic_grad_fn(full_input, theta, theta_par)"
   ]
  },
  {
   "cell_type": "code",
   "execution_count": 13,
   "id": "c83c42bf-c25a-4a1e-902a-7cfa28b7db2f",
   "metadata": {},
   "outputs": [
    {
     "name": "stdout",
     "output_type": "stream",
     "text": [
      "Loss: -1.1102230246251565e-16\n",
      "Loss: 1.1102230246251565e-16\n",
      "Loss: -1.1102230246251565e-16\n",
      "Loss: 1.1102230246251565e-16\n",
      "Loss: 1.1102230246251565e-16\n",
      "Loss: -0.0\n",
      "Loss: -1.1102230246251565e-16\n",
      "Loss: -1.1102230246251565e-16\n",
      "Loss: -1.1102230246251565e-16\n",
      "Loss: -1.1102230246251565e-16\n"
     ]
    }
   ],
   "source": [
    "opt = qml.GradientDescentOptimizer(stepsize=0.1)\n",
    "for _ in range(10):\n",
    "    theta_par, loss = opt.step_and_cost(lambda tp: -critic_qnode(full_input, theta, tp), theta_par)\n",
    "    print(\"Loss:\", loss)"
   ]
  },
  {
   "cell_type": "code",
   "execution_count": null,
   "id": "505cd636-b54f-49f5-b031-0c543683926a",
   "metadata": {},
   "outputs": [],
   "source": []
  }
 ],
 "metadata": {
  "kernelspec": {
   "display_name": "Python (LQDRL)",
   "language": "python",
   "name": "pl_lqdrl_env"
  },
  "language_info": {
   "codemirror_mode": {
    "name": "ipython",
    "version": 3
   },
   "file_extension": ".py",
   "mimetype": "text/x-python",
   "name": "python",
   "nbconvert_exporter": "python",
   "pygments_lexer": "ipython3",
   "version": "3.11.11"
  }
 },
 "nbformat": 4,
 "nbformat_minor": 5
}
