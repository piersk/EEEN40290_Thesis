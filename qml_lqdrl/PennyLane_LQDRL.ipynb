{
 "cells": [
  {
   "cell_type": "code",
   "execution_count": 14,
   "id": "58f08491-4882-4828-b498-b4e442c5be70",
   "metadata": {},
   "outputs": [],
   "source": [
    "import pennylane as qml\n",
    "from pennylane import numpy as np\n",
    "from pennylane import grad\n",
    "import matplotlib"
   ]
  },
  {
   "cell_type": "code",
   "execution_count": 15,
   "id": "33990b0a-d359-4cc7-84d8-ff4e90fe527d",
   "metadata": {},
   "outputs": [],
   "source": [
    "#n_qubits = 17\n",
    "dev = qml.device(\"default.qubit\", wires=n_qubits)\n",
    "\n",
    "# Quantum Layer: First LQ Embed Layer\n",
    "def lq_embed_1(theta, theta_par):\n",
    "    for h in range(n_qubits):\n",
    "        qml.Hadamard(wires=h)\n",
    "    for i in range(n_qubits):\n",
    "        qml.RX(theta[i], wires=i)\n",
    "    for i in range(n_qubits - 1):\n",
    "        qml.CZ(wires=[i, i+1])\n",
    "    for i in range(n_qubits):\n",
    "        qml.RY(theta_par[i], wires=i)\n",
    "\n",
    "# Quantum Layer: Subsequent Layers\n",
    "def lq_embed_m(theta, theta_par):\n",
    "    for i in range(n_qubits):\n",
    "        qml.RX(theta[i], wires=i)\n",
    "    for i in range(n_qubits - 1):\n",
    "        qml.CZ(wires=[i, i+1])\n",
    "    for i in range(n_qubits):\n",
    "        qml.RY(theta_par[i], wires=i)\n",
    "\n",
    "# Full Layerwise Ansatz\n",
    "@qml.qnode(dev, interface=\"autograd\")\n",
    "def critic_qnode(inputs, weights):\n",
    "    lq_embed_1(inputs, weights[0])\n",
    "    for m in range(1, len(weights)):\n",
    "        lq_embed_m(inputs, weights[m])\n",
    "    return qml.expval(qml.PauliZ(0))"
   ]
  },
  {
   "cell_type": "code",
   "execution_count": 16,
   "id": "f92a940e-9733-4ebc-ad60-e53915469ca5",
   "metadata": {},
   "outputs": [
    {
     "name": "stdout",
     "output_type": "stream",
     "text": [
      "JAX version: 0.4.25\n",
      "PennyLane version: 0.37.0\n"
     ]
    }
   ],
   "source": [
    "import jax\n",
    "import pennylane as qml\n",
    "\n",
    "print(\"JAX version:\", jax.__version__)\n",
    "print(\"PennyLane version:\", qml.__version__)"
   ]
  },
  {
   "cell_type": "code",
   "execution_count": 17,
   "id": "d0a59ef6-3556-4d54-85ef-68367115cf95",
   "metadata": {},
   "outputs": [],
   "source": [
    "@qml.qnode(dev)\n",
    "def actor_qnode(state_input, theta, theta_par):\n",
    "    # Apply Hadamard\n",
    "    for i in range(n_qubits):\n",
    "        qml.Hadamard(wires=i)\n",
    "    \n",
    "    # RX with state-dependent angle\n",
    "    for i in range(n_qubits):\n",
    "        qml.RX(state_input[i], wires=i)\n",
    "    \n",
    "    # Entanglement (CZ between neighbours)\n",
    "    for i in range(n_qubits - 1):\n",
    "        qml.CZ(wires=[i, i+1])\n",
    "    \n",
    "    # RY with trainable parameter\n",
    "    for i in range(n_qubits):\n",
    "        qml.RY(theta_par[i], wires=i)\n",
    "    \n",
    "    # Measurement\n",
    "    return [qml.expval(qml.PauliZ(i)) for i in range(n_qubits)]"
   ]
  },
  {
   "cell_type": "code",
   "execution_count": 18,
   "id": "fd65cab4-315c-45a4-93f2-e2f075f24a29",
   "metadata": {},
   "outputs": [],
   "source": [
    "@qml.qnode(dev)\n",
    "def critic_qnode(critic_input, theta, theta_par):\n",
    "    # Build same ansatz as above, with critic_input\n",
    "    for i in range(n_qubits):\n",
    "        qml.Hadamard(wires=i)\n",
    "        qml.RX(critic_input[i], wires=i)\n",
    "\n",
    "    for i in range(n_qubits - 1):\n",
    "        qml.CZ(wires=[i, i+1])\n",
    "\n",
    "    for i in range(n_qubits):\n",
    "        qml.RY(theta_par[i], wires=i)\n",
    "\n",
    "    # Q-value output (e.g., Z₀ expectation)\n",
    "    return qml.expval(qml.PauliZ(0))"
   ]
  },
  {
   "cell_type": "code",
   "execution_count": null,
   "id": "9947a7dd-0e04-46d2-9a28-a8402c727f84",
   "metadata": {},
   "outputs": [],
   "source": [
    "m_layers = 3\n",
    "E_rem = 500e03\n",
    "num_gus = 4\n",
    "u = []\n",
    "uav_pos = [0, 0, 0]\n",
    "k_shots = 1024\n",
    "\n",
    "inp_vec = []\n",
    "\n",
    "for i in range(len(uav_pos)):\n",
    "    inp_vec.append(uav_pos[i])\n",
    "inp_vec.append(E_rem)\n",
    "for j in range(2*num_gus):\n",
    "    u.append(j)\n",
    "    inp_vec.append(u[j])\n",
    "\n",
    "n_qubits = len(inp_vec)\n",
    "print(n_qubits)\n",
    "theta_par_inp_vec = np.arange(-np.pi, np.pi, (2*np.pi / (n_qubits - 1)))\n",
    "\n",
    "theta_arr = x_angle_transformation(n_qubits, inp_vec)\n",
    "theta_par_arr = x_angle_transformation(n_qubits, theta_par_inp_vec)\n"
   ]
  },
  {
   "cell_type": "code",
   "execution_count": 28,
   "id": "61a6918a-568d-4924-a141-93aecf5c79b5",
   "metadata": {},
   "outputs": [
    {
     "name": "stdout",
     "output_type": "stream",
     "text": [
      "[0, 0, 0, 500000.0, 0, 1, 2, 3, 4, 5, 6, 7]\n",
      "12\n",
      "17\n"
     ]
    }
   ],
   "source": [
    "# TODO: PROPERLY PORT THE QISKIT VERSION TO PENNYLANE\n",
    "# TODO: IMPORT THE UAV LQDRL GYM ENVIRONMENT TO GET & UPDATE THESE VALUES AFTER EVERY LAYER\n",
    "m_layers = 3\n",
    "E_rem = 500e03\n",
    "num_gus = 4\n",
    "u = []\n",
    "uav_pos = [0, 0, 0]\n",
    "uav_v_max = 30\n",
    "zeta_v = 1\n",
    "uav_v = zeta_v * uav_v_max\n",
    "noma_g = [1, 2, 3]\n",
    "pwr_alloc = 1\n",
    "action_vec = []\n",
    "\n",
    "action_vec.append(uav_v)\n",
    "for k in range(len(noma_g)):\n",
    "    action_vec.append(noma_g[k])\n",
    "action_vec.append(pwr_alloc)\n",
    "\n",
    "actor_inp_vec = []\n",
    "crit_inp_vec = []\n",
    "\n",
    "for i in range(len(uav_pos)):\n",
    "    actor_inp_vec.append(uav_pos[i])\n",
    "actor_inp_vec.append(E_rem)\n",
    "for j in range(2*num_gus):\n",
    "    u.append(j)\n",
    "    actor_inp_vec.append(u[j])\n",
    "'''\n",
    "crit_inp_vec.append(uav_v)\n",
    "for k in range(len(noma_g)):\n",
    "    crit_inp_vec.append(noma_g[k])\n",
    "crit_inp_vec.append(pwr_alloc)\n",
    "'''\n",
    "\n",
    "print(actor_inp_vec)\n",
    "\n",
    "full_input = np.concatenate([actor_inp_vec, action_vec])\n",
    "\n",
    "n_qubits = len(actor_inp_vec)\n",
    "n_crit_qubits = len(full_input)\n",
    "\n",
    "theta = np.zeros(n_qubits, requires_grad=False)\n",
    "theta_par = np.random.randn(n_qubits, requires_grad=True)\n",
    "\n",
    "crit_theta = np.zeros(n_crit_qubits, requires_grad=False)\n",
    "crit_theta_par = np.random.randn(n_crit_qubits, requires_grad=True)\n",
    "\n",
    "# Forward pass\n",
    "q_vals = actor_qnode(actor_inp_vec, theta, theta_par)\n",
    "q_val = critic_qnode(full_input, theta, theta_par)"
   ]
  },
  {
   "cell_type": "code",
   "execution_count": 29,
   "id": "0f8b21e8-9210-4e24-9f53-155ae626e5fb",
   "metadata": {},
   "outputs": [],
   "source": [
    "critic_grad_fn = qml.grad(critic_qnode, argnum=2)\n",
    "grad_vals = critic_grad_fn(full_input, theta, theta_par)"
   ]
  },
  {
   "cell_type": "code",
   "execution_count": 30,
   "id": "c83c42bf-c25a-4a1e-902a-7cfa28b7db2f",
   "metadata": {},
   "outputs": [
    {
     "name": "stdout",
     "output_type": "stream",
     "text": [
      "Loss: -5.551115123125783e-17\n",
      "Loss: -0.0\n",
      "Loss: -5.551115123125783e-17\n",
      "Loss: 5.551115123125783e-17\n",
      "Loss: -0.0\n",
      "Loss: -5.551115123125783e-17\n",
      "Loss: -0.0\n",
      "Loss: 5.551115123125783e-17\n",
      "Loss: -0.0\n",
      "Loss: -0.0\n"
     ]
    }
   ],
   "source": [
    "opt = qml.GradientDescentOptimizer(stepsize=0.1)\n",
    "for _ in range(10):\n",
    "    theta_par, loss = opt.step_and_cost(lambda tp: -critic_qnode(full_input, theta, tp), theta_par)\n",
    "    print(\"Loss:\", loss)"
   ]
  },
  {
   "cell_type": "code",
   "execution_count": null,
   "id": "505cd636-b54f-49f5-b031-0c543683926a",
   "metadata": {},
   "outputs": [],
   "source": []
  }
 ],
 "metadata": {
  "kernelspec": {
   "display_name": "Python (LQDRL)",
   "language": "python",
   "name": "pl_lqdrl_env"
  },
  "language_info": {
   "codemirror_mode": {
    "name": "ipython",
    "version": 3
   },
   "file_extension": ".py",
   "mimetype": "text/x-python",
   "name": "python",
   "nbconvert_exporter": "python",
   "pygments_lexer": "ipython3",
   "version": "3.11.11"
  }
 },
 "nbformat": 4,
 "nbformat_minor": 5
}
