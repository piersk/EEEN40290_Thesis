{
 "cells": [
  {
   "cell_type": "code",
   "execution_count": 1,
   "id": "58f08491-4882-4828-b498-b4e442c5be70",
   "metadata": {},
   "outputs": [],
   "source": [
    "import jax\n",
    "import pennylane as qml\n",
    "from pennylane import numpy as np\n",
    "from pennylane import grad\n",
    "from pennylane.fourier import circuit_spectrum\n",
    "import matplotlib"
   ]
  },
  {
   "cell_type": "code",
   "execution_count": 2,
   "id": "33990b0a-d359-4cc7-84d8-ff4e90fe527d",
   "metadata": {},
   "outputs": [
    {
     "ename": "NameError",
     "evalue": "name 'n_qubits' is not defined",
     "output_type": "error",
     "traceback": [
      "\u001b[31m---------------------------------------------------------------------------\u001b[39m",
      "\u001b[31mNameError\u001b[39m                                 Traceback (most recent call last)",
      "\u001b[36mCell\u001b[39m\u001b[36m \u001b[39m\u001b[32mIn[2]\u001b[39m\u001b[32m, line 1\u001b[39m\n\u001b[32m----> \u001b[39m\u001b[32m1\u001b[39m dev = qml.device(\u001b[33m\"\u001b[39m\u001b[33mdefault.qubit\u001b[39m\u001b[33m\"\u001b[39m, wires=\u001b[43mn_qubits\u001b[49m)\n\u001b[32m      3\u001b[39m \u001b[38;5;66;03m# Quantum Layer: First LQ Embed Layer\u001b[39;00m\n\u001b[32m      4\u001b[39m \u001b[38;5;28;01mdef\u001b[39;00m\u001b[38;5;250m \u001b[39m\u001b[34mlq_embed_1\u001b[39m(n_qubits, theta, theta_par):\n",
      "\u001b[31mNameError\u001b[39m: name 'n_qubits' is not defined"
     ]
    }
   ],
   "source": [
    "dev = qml.device(\"default.qubit\", wires=n_qubits)\n",
    "\n",
    "# Quantum Layer: First LQ Embed Layer\n",
    "def lq_embed_1(n_qubits, theta, theta_par):\n",
    "    for h in range(n_qubits):\n",
    "        qml.Hadamard(wires=h)\n",
    "    for i in range(n_qubits):\n",
    "        qml.RX(theta[i], wires=i)\n",
    "    for i in range(n_qubits - 1):\n",
    "        qml.CZ(wires=[i, i+1])\n",
    "    for i in range(n_qubits):\n",
    "        qml.RY(theta_par[i], wires=i)\n",
    "\n",
    "# Quantum Layer: Subsequent Layers\n",
    "def lq_embed_m(n_qubits, theta, theta_par):\n",
    "    for i in range(n_qubits):\n",
    "        qml.RX(theta[i], wires=i)\n",
    "    for i in range(n_qubits - 1):\n",
    "        qml.CZ(wires=[i, i+1])\n",
    "    for i in range(n_qubits):\n",
    "        qml.RY(theta_par[i], wires=i)\n",
    "\n",
    "# Full Layerwise Ansatz\n",
    "@qml.qnode(dev, interface=\"autograd\")\n",
    "def critic_qnode(inputs, weights):\n",
    "    lq_embed_1(inputs, weights[0])\n",
    "    for m in range(1, len(weights)):\n",
    "        lq_embed_m(inputs, weights[m])\n",
    "    return qml.expval(qml.PauliZ(0))"
   ]
  },
  {
   "cell_type": "code",
   "execution_count": 55,
   "id": "d0a59ef6-3556-4d54-85ef-68367115cf95",
   "metadata": {},
   "outputs": [],
   "source": [
    "@qml.qnode(dev)\n",
    "def actor_qnode(n_qubits, state_input, theta, theta_par):\n",
    "    # Apply Hadamard\n",
    "    for i in range(n_qubits):\n",
    "        qml.Hadamard(wires=i)\n",
    "    \n",
    "    # RX with state-dependent angle\n",
    "    for i in range(n_qubits):\n",
    "        qml.RX(state_input[i], wires=i)\n",
    "    \n",
    "    # Entanglement (CZ between neighbours)\n",
    "    for i in range(n_qubits - 1):\n",
    "        qml.CZ(wires=[i, i+1])\n",
    "    \n",
    "    # RY with trainable parameter\n",
    "    for i in range(0, n_qubits):\n",
    "        qml.RY(theta_par[i], wires=i)\n",
    "    \n",
    "    # Measurement\n",
    "    return [qml.expval(qml.PauliZ(i)) for i in range(n_qubits)]"
   ]
  },
  {
   "cell_type": "code",
   "execution_count": 56,
   "id": "fd65cab4-315c-45a4-93f2-e2f075f24a29",
   "metadata": {},
   "outputs": [],
   "source": [
    "@qml.qnode(dev)\n",
    "def critic_qnode(n_qubits, critic_input, theta, theta_par):\n",
    "    # Build same ansatz as above, with critic_input\n",
    "    for i in range(n_qubits):\n",
    "        qml.Hadamard(wires=i)\n",
    "        qml.RX(critic_input[i], wires=i)\n",
    "\n",
    "    for i in range(n_qubits - 1):\n",
    "        qml.CZ(wires=[i, i+1])\n",
    "\n",
    "    for i in range(0, n_qubits):\n",
    "        qml.RY(theta_par[i], wires=i)\n",
    "\n",
    "    # Q-value output (e.g., Z₀ expectation)\n",
    "    return [qml.expval(qml.PauliZ(0)) for i in range(n_qubits)]"
   ]
  },
  {
   "cell_type": "code",
   "execution_count": 3,
   "id": "234551e0-909f-4c7f-adc9-a6c98673a505",
   "metadata": {},
   "outputs": [],
   "source": [
    "def make_critic_qnode(n_qubits):\n",
    "    dev = qml.device(\"default.qubit\", wires=n_qubits)\n",
    "    \n",
    "    @qml.qnode(dev)\n",
    "    def critic_qnode(critic_input, theta, theta_par):\n",
    "        # Build same ansatz as above, with critic_input\n",
    "        for i in range(n_qubits):\n",
    "            qml.Hadamard(wires=i)\n",
    "            qml.RX(critic_input[i], wires=i)\n",
    "    \n",
    "        for i in range(n_qubits - 1):\n",
    "            qml.CZ(wires=[i, i+1])\n",
    "    \n",
    "        for i in range(0, n_qubits):\n",
    "            qml.RY(theta_par[i], wires=i)\n",
    "    \n",
    "        # Q-value output (e.g., Z₀ expectation)\n",
    "        #return [qml.expval(qml.PauliZ(i)) for i in range(n_qubits)]\n",
    "        return qml.expval(qml.PauliZ(i))\n",
    "    return critic_qnode\n",
    "\n",
    "def make_actor_qnode(n_qubits):\n",
    "    dev = qml.device(\"default.qubit\", wires=n_qubits)\n",
    "    \n",
    "    @qml.qnode(dev)\n",
    "    def actor_qnode(state_input, theta, theta_par):\n",
    "        # Apply Hadamard\n",
    "        for i in range(n_qubits):\n",
    "            qml.Hadamard(wires=i)\n",
    "        \n",
    "        # RX with state-dependent angle\n",
    "        for i in range(n_qubits):\n",
    "            qml.RX(state_input[i], wires=i)\n",
    "        \n",
    "        # Entanglement (CZ between neighbours)\n",
    "        for i in range(n_qubits - 1):\n",
    "            qml.CZ(wires=[i, i+1])\n",
    "        \n",
    "        # RY with trainable parameter\n",
    "        for i in range(0, n_qubits):\n",
    "            qml.RY(theta_par[i], wires=i)\n",
    "        \n",
    "        # Measurement\n",
    "        #return [qml.expval(qml.PauliZ(i)) for i in range(n_qubits)]\n",
    "        return qml.expval(qml.PauliZ(i))\n",
    "    return actor_qnode"
   ]
  },
  {
   "cell_type": "code",
   "execution_count": 4,
   "id": "61a6918a-568d-4924-a141-93aecf5c79b5",
   "metadata": {},
   "outputs": [
    {
     "name": "stdout",
     "output_type": "stream",
     "text": [
      "12\n",
      "17\n"
     ]
    },
    {
     "data": {
      "text/plain": [
       "'\\n# Forward pass\\nq_vals = actor_qnode(n_qubits, actor_inp_vec, theta, theta_par)\\nq_val = critic_qnode(n_crit_qubits, full_input, crit_theta, crit_theta_par)\\n'"
      ]
     },
     "execution_count": 4,
     "metadata": {},
     "output_type": "execute_result"
    }
   ],
   "source": [
    "# TODO: PROPERLY PORT THE QISKIT VERSION TO PENNYLANE\n",
    "# TODO: IMPORT THE UAV LQDRL GYM ENVIRONMENT TO GET & UPDATE THESE VALUES AFTER EVERY LAYER\n",
    "m_layers = 3\n",
    "E_rem = 500e03\n",
    "num_gus = 4\n",
    "u = []\n",
    "uav_pos = [0, 0, 0]\n",
    "uav_v_max = 30\n",
    "zeta_v = 1\n",
    "uav_v = zeta_v * uav_v_max\n",
    "noma_g = [1, 2, 3]\n",
    "pwr_alloc = 1\n",
    "action_vec = []\n",
    "\n",
    "action_vec.append(uav_v)\n",
    "for k in range(len(noma_g)):\n",
    "    action_vec.append(noma_g[k])\n",
    "action_vec.append(pwr_alloc)\n",
    "\n",
    "actor_inp_vec = []\n",
    "crit_inp_vec = []\n",
    "\n",
    "for i in range(len(uav_pos)):\n",
    "    actor_inp_vec.append(uav_pos[i])\n",
    "actor_inp_vec.append(E_rem)\n",
    "for j in range(2*num_gus):\n",
    "    u.append(j)\n",
    "    actor_inp_vec.append(u[j])\n",
    "\n",
    "full_input = np.concatenate([actor_inp_vec, action_vec])\n",
    "\n",
    "n_qubits = len(actor_inp_vec)\n",
    "print(n_qubits) \n",
    "n_crit_qubits = len(full_input)\n",
    "print(n_crit_qubits)\n",
    "\n",
    "theta = np.zeros(n_qubits, requires_grad=True)\n",
    "theta_par = np.random.randn(n_qubits, requires_grad=True)\n",
    "\n",
    "crit_theta = np.zeros(n_crit_qubits, requires_grad=True)\n",
    "crit_theta_par = np.random.randn(n_crit_qubits, requires_grad=True)\n",
    "\n",
    "critic_qnode = make_critic_qnode(n_crit_qubits)\n",
    "#q_val = critic_qnode(n_crit_qubits, full_input, crit_theta, crit_theta_par)\n",
    "q_val = critic_qnode(full_input, crit_theta, crit_theta_par)\n",
    "\n",
    "actor_qnode = make_actor_qnode(n_qubits)\n",
    "#q_vals = actor_qnode(n_qubits, actor_inp_vec, theta, theta_par)\n",
    "q_vals = actor_qnode(actor_inp_vec, theta, theta_par)\n",
    "\n",
    "'''\n",
    "# Forward pass\n",
    "q_vals = actor_qnode(n_qubits, actor_inp_vec, theta, theta_par)\n",
    "q_val = critic_qnode(n_crit_qubits, full_input, crit_theta, crit_theta_par)\n",
    "'''"
   ]
  },
  {
   "cell_type": "code",
   "execution_count": 7,
   "id": "79df4856-e5a7-4fe2-b1ff-0f7d22c2c1ed",
   "metadata": {},
   "outputs": [],
   "source": [
    "qml.draw_mpl(actor_qnode)(np.ones(n_qubits), np.ones(n_qubits), np.ones(n_qubits))\n",
    "#qml.draw(actor_qnode)(n_qubits, np.ones(n_qubits), np.ones(n_qubits), np.ones(n_qubits))"
   ]
  },
  {
   "cell_type": "code",
   "execution_count": 6,
   "id": "f1673afa-807e-4cc1-a52f-b99c0d383627",
   "metadata": {},
   "outputs": [],
   "source": [
    "qml.draw_mpl(critic_qnode)(np.ones(n_crit_qubits), np.ones(n_crit_qubits), np.ones(n_crit_qubits))"
   ]
  },
  {
   "cell_type": "code",
   "execution_count": 8,
   "id": "8cdcad8e-a68c-4f33-8be7-a3b86627a184",
   "metadata": {},
   "outputs": [
    {
     "name": "stdout",
     "output_type": "stream",
     "text": [
      "[ 1.10475256e-18  2.20050497e-18 -1.04846713e-18  8.11175855e-19\n",
      "  6.74153520e-19 -9.88522767e-19  7.89347303e-18 -4.97898671e-18\n",
      "  1.62918291e-18 -6.53545727e-19  4.11124971e-17  1.67958585e-16]\n"
     ]
    }
   ],
   "source": [
    "actor_grad_fn = qml.grad(actor_qnode, argnum=2)\n",
    "grad_vals = actor_grad_fn(actor_inp_vec, theta, theta_par)\n",
    "print(grad_vals)"
   ]
  },
  {
   "cell_type": "code",
   "execution_count": 12,
   "id": "0f8b21e8-9210-4e24-9f53-155ae626e5fb",
   "metadata": {},
   "outputs": [
    {
     "name": "stdout",
     "output_type": "stream",
     "text": [
      "[ 8.29961052e-20 -2.54388762e-19  4.08687470e-19  1.14778721e-18\n",
      "  3.94974167e-19  8.09070693e-19 -5.04499809e-19  4.06237648e-19\n",
      " -5.83129637e-19  1.30463778e-19 -1.84157087e-19  1.77621797e-19\n",
      "  8.92616715e-19 -1.27332201e-18 -2.91282869e-19 -2.17056644e-17\n",
      " -1.10347274e-16]\n"
     ]
    }
   ],
   "source": [
    "critic_grad_fn = qml.grad(critic_qnode, argnum=2)\n",
    "grad_vals = critic_grad_fn(full_input, crit_theta, crit_theta_par)\n",
    "print(grad_vals)"
   ]
  },
  {
   "cell_type": "code",
   "execution_count": 10,
   "id": "c83c42bf-c25a-4a1e-902a-7cfa28b7db2f",
   "metadata": {},
   "outputs": [
    {
     "ename": "IndexError",
     "evalue": "index 12 is out of bounds for axis 0 with size 12",
     "output_type": "error",
     "traceback": [
      "\u001b[31m---------------------------------------------------------------------------\u001b[39m",
      "\u001b[31mIndexError\u001b[39m                                Traceback (most recent call last)",
      "\u001b[36mCell\u001b[39m\u001b[36m \u001b[39m\u001b[32mIn[10]\u001b[39m\u001b[32m, line 3\u001b[39m\n\u001b[32m      1\u001b[39m opt = qml.GradientDescentOptimizer(stepsize=\u001b[32m0.1\u001b[39m)\n\u001b[32m      2\u001b[39m \u001b[38;5;28;01mfor\u001b[39;00m _ \u001b[38;5;129;01min\u001b[39;00m \u001b[38;5;28mrange\u001b[39m(\u001b[32m10\u001b[39m):\n\u001b[32m----> \u001b[39m\u001b[32m3\u001b[39m     theta_par, loss = \u001b[43mopt\u001b[49m\u001b[43m.\u001b[49m\u001b[43mstep_and_cost\u001b[49m\u001b[43m(\u001b[49m\u001b[38;5;28;43;01mlambda\u001b[39;49;00m\u001b[43m \u001b[49m\u001b[43mtp\u001b[49m\u001b[43m:\u001b[49m\u001b[43m \u001b[49m\u001b[43m-\u001b[49m\u001b[43mcritic_qnode\u001b[49m\u001b[43m(\u001b[49m\u001b[43mfull_input\u001b[49m\u001b[43m,\u001b[49m\u001b[43m \u001b[49m\u001b[43mtheta\u001b[49m\u001b[43m,\u001b[49m\u001b[43m \u001b[49m\u001b[43mtp\u001b[49m\u001b[43m)\u001b[49m\u001b[43m,\u001b[49m\u001b[43m \u001b[49m\u001b[43mtheta_par\u001b[49m\u001b[43m)\u001b[49m\n\u001b[32m      4\u001b[39m     \u001b[38;5;28mprint\u001b[39m(\u001b[33m\"\u001b[39m\u001b[33mLoss:\u001b[39m\u001b[33m\"\u001b[39m, loss)\n",
      "\u001b[36mFile \u001b[39m\u001b[32m~/Documents/engineering/mengsc/semester_3/eeen40290_mengsc_project/workings/code/qml_lqdrl/pl_lqdrl_env/lib64/python3.11/site-packages/pennylane/optimize/gradient_descent.py:64\u001b[39m, in \u001b[36mGradientDescentOptimizer.step_and_cost\u001b[39m\u001b[34m(self, objective_fn, grad_fn, *args, **kwargs)\u001b[39m\n\u001b[32m     44\u001b[39m \u001b[38;5;28;01mdef\u001b[39;00m\u001b[38;5;250m \u001b[39m\u001b[34mstep_and_cost\u001b[39m(\u001b[38;5;28mself\u001b[39m, objective_fn, *args, grad_fn=\u001b[38;5;28;01mNone\u001b[39;00m, **kwargs):\n\u001b[32m     45\u001b[39m \u001b[38;5;250m    \u001b[39m\u001b[33;03m\"\"\"Update trainable arguments with one step of the optimizer and return the corresponding\u001b[39;00m\n\u001b[32m     46\u001b[39m \u001b[33;03m    objective function value prior to the step.\u001b[39;00m\n\u001b[32m     47\u001b[39m \n\u001b[32m   (...)\u001b[39m\u001b[32m     61\u001b[39m \u001b[33;03m        If single arg is provided, list [array] is replaced by array.\u001b[39;00m\n\u001b[32m     62\u001b[39m \u001b[33;03m    \"\"\"\u001b[39;00m\n\u001b[32m---> \u001b[39m\u001b[32m64\u001b[39m     g, forward = \u001b[38;5;28;43mself\u001b[39;49m\u001b[43m.\u001b[49m\u001b[43mcompute_grad\u001b[49m\u001b[43m(\u001b[49m\u001b[43mobjective_fn\u001b[49m\u001b[43m,\u001b[49m\u001b[43m \u001b[49m\u001b[43margs\u001b[49m\u001b[43m,\u001b[49m\u001b[43m \u001b[49m\u001b[43mkwargs\u001b[49m\u001b[43m,\u001b[49m\u001b[43m \u001b[49m\u001b[43mgrad_fn\u001b[49m\u001b[43m=\u001b[49m\u001b[43mgrad_fn\u001b[49m\u001b[43m)\u001b[49m\n\u001b[32m     65\u001b[39m     new_args = \u001b[38;5;28mself\u001b[39m.apply_grad(g, args)\n\u001b[32m     67\u001b[39m     \u001b[38;5;28;01mif\u001b[39;00m forward \u001b[38;5;129;01mis\u001b[39;00m \u001b[38;5;28;01mNone\u001b[39;00m:\n",
      "\u001b[36mFile \u001b[39m\u001b[32m~/Documents/engineering/mengsc/semester_3/eeen40290_mengsc_project/workings/code/qml_lqdrl/pl_lqdrl_env/lib64/python3.11/site-packages/pennylane/optimize/gradient_descent.py:122\u001b[39m, in \u001b[36mGradientDescentOptimizer.compute_grad\u001b[39m\u001b[34m(objective_fn, args, kwargs, grad_fn)\u001b[39m\n\u001b[32m    104\u001b[39m \u001b[38;5;250m\u001b[39m\u001b[33mr\u001b[39m\u001b[33;03m\"\"\"Compute gradient of the objective function at the given point and return it along with\u001b[39;00m\n\u001b[32m    105\u001b[39m \u001b[33;03mthe objective function forward pass (if available).\u001b[39;00m\n\u001b[32m    106\u001b[39m \n\u001b[32m   (...)\u001b[39m\u001b[32m    119\u001b[39m \u001b[33;03m    will not be evaluted and instead ``None`` will be returned.\u001b[39;00m\n\u001b[32m    120\u001b[39m \u001b[33;03m\"\"\"\u001b[39;00m\n\u001b[32m    121\u001b[39m g = get_gradient(objective_fn) \u001b[38;5;28;01mif\u001b[39;00m grad_fn \u001b[38;5;129;01mis\u001b[39;00m \u001b[38;5;28;01mNone\u001b[39;00m \u001b[38;5;28;01melse\u001b[39;00m grad_fn\n\u001b[32m--> \u001b[39m\u001b[32m122\u001b[39m grad = \u001b[43mg\u001b[49m\u001b[43m(\u001b[49m\u001b[43m*\u001b[49m\u001b[43margs\u001b[49m\u001b[43m,\u001b[49m\u001b[43m \u001b[49m\u001b[43m*\u001b[49m\u001b[43m*\u001b[49m\u001b[43mkwargs\u001b[49m\u001b[43m)\u001b[49m\n\u001b[32m    123\u001b[39m forward = \u001b[38;5;28mgetattr\u001b[39m(g, \u001b[33m\"\u001b[39m\u001b[33mforward\u001b[39m\u001b[33m\"\u001b[39m, \u001b[38;5;28;01mNone\u001b[39;00m)\n\u001b[32m    125\u001b[39m num_trainable_args = \u001b[38;5;28msum\u001b[39m(\u001b[38;5;28mgetattr\u001b[39m(arg, \u001b[33m\"\u001b[39m\u001b[33mrequires_grad\u001b[39m\u001b[33m\"\u001b[39m, \u001b[38;5;28;01mFalse\u001b[39;00m) \u001b[38;5;28;01mfor\u001b[39;00m arg \u001b[38;5;129;01min\u001b[39;00m args)\n",
      "\u001b[36mFile \u001b[39m\u001b[32m~/Documents/engineering/mengsc/semester_3/eeen40290_mengsc_project/workings/code/qml_lqdrl/pl_lqdrl_env/lib64/python3.11/site-packages/pennylane/_grad.py:166\u001b[39m, in \u001b[36mgrad.__call__\u001b[39m\u001b[34m(self, *args, **kwargs)\u001b[39m\n\u001b[32m    163\u001b[39m     \u001b[38;5;28mself\u001b[39m._forward = \u001b[38;5;28mself\u001b[39m._fun(*args, **kwargs)\n\u001b[32m    164\u001b[39m     \u001b[38;5;28;01mreturn\u001b[39;00m ()\n\u001b[32m--> \u001b[39m\u001b[32m166\u001b[39m grad_value, ans = \u001b[43mgrad_fn\u001b[49m\u001b[43m(\u001b[49m\u001b[43m*\u001b[49m\u001b[43margs\u001b[49m\u001b[43m,\u001b[49m\u001b[43m \u001b[49m\u001b[43m*\u001b[49m\u001b[43m*\u001b[49m\u001b[43mkwargs\u001b[49m\u001b[43m)\u001b[49m  \u001b[38;5;66;03m# pylint: disable=not-callable\u001b[39;00m\n\u001b[32m    167\u001b[39m \u001b[38;5;28mself\u001b[39m._forward = ans\n\u001b[32m    169\u001b[39m \u001b[38;5;28;01mreturn\u001b[39;00m grad_value\n",
      "\u001b[36mFile \u001b[39m\u001b[32m~/Documents/engineering/mengsc/semester_3/eeen40290_mengsc_project/workings/code/qml_lqdrl/pl_lqdrl_env/lib64/python3.11/site-packages/autograd/wrap_util.py:23\u001b[39m, in \u001b[36munary_to_nary.<locals>.nary_operator.<locals>.nary_f\u001b[39m\u001b[34m(*args, **kwargs)\u001b[39m\n\u001b[32m     21\u001b[39m \u001b[38;5;28;01melse\u001b[39;00m:\n\u001b[32m     22\u001b[39m     x = \u001b[38;5;28mtuple\u001b[39m(args[i] \u001b[38;5;28;01mfor\u001b[39;00m i \u001b[38;5;129;01min\u001b[39;00m argnum)\n\u001b[32m---> \u001b[39m\u001b[32m23\u001b[39m \u001b[38;5;28;01mreturn\u001b[39;00m \u001b[43munary_operator\u001b[49m\u001b[43m(\u001b[49m\u001b[43munary_f\u001b[49m\u001b[43m,\u001b[49m\u001b[43m \u001b[49m\u001b[43mx\u001b[49m\u001b[43m,\u001b[49m\u001b[43m \u001b[49m\u001b[43m*\u001b[49m\u001b[43mnary_op_args\u001b[49m\u001b[43m,\u001b[49m\u001b[43m \u001b[49m\u001b[43m*\u001b[49m\u001b[43m*\u001b[49m\u001b[43mnary_op_kwargs\u001b[49m\u001b[43m)\u001b[49m\n",
      "\u001b[36mFile \u001b[39m\u001b[32m~/Documents/engineering/mengsc/semester_3/eeen40290_mengsc_project/workings/code/qml_lqdrl/pl_lqdrl_env/lib64/python3.11/site-packages/pennylane/_grad.py:184\u001b[39m, in \u001b[36mgrad._grad_with_forward\u001b[39m\u001b[34m(fun, x)\u001b[39m\n\u001b[32m    178\u001b[39m \u001b[38;5;129m@staticmethod\u001b[39m\n\u001b[32m    179\u001b[39m \u001b[38;5;129m@unary_to_nary\u001b[39m\n\u001b[32m    180\u001b[39m \u001b[38;5;28;01mdef\u001b[39;00m\u001b[38;5;250m \u001b[39m\u001b[34m_grad_with_forward\u001b[39m(fun, x):\n\u001b[32m    181\u001b[39m \u001b[38;5;250m    \u001b[39m\u001b[33;03m\"\"\"This function is a replica of ``autograd.grad``, with the only\u001b[39;00m\n\u001b[32m    182\u001b[39m \u001b[33;03m    difference being that it returns both the gradient *and* the forward pass\u001b[39;00m\n\u001b[32m    183\u001b[39m \u001b[33;03m    value.\"\"\"\u001b[39;00m\n\u001b[32m--> \u001b[39m\u001b[32m184\u001b[39m     vjp, ans = \u001b[43m_make_vjp\u001b[49m\u001b[43m(\u001b[49m\u001b[43mfun\u001b[49m\u001b[43m,\u001b[49m\u001b[43m \u001b[49m\u001b[43mx\u001b[49m\u001b[43m)\u001b[49m  \u001b[38;5;66;03m# pylint: disable=redefined-outer-name\u001b[39;00m\n\u001b[32m    186\u001b[39m     \u001b[38;5;28;01mif\u001b[39;00m vspace(ans).size != \u001b[32m1\u001b[39m:\n\u001b[32m    187\u001b[39m         \u001b[38;5;28;01mraise\u001b[39;00m \u001b[38;5;167;01mTypeError\u001b[39;00m(\n\u001b[32m    188\u001b[39m             \u001b[33m\"\u001b[39m\u001b[33mGrad only applies to real scalar-output functions. \u001b[39m\u001b[33m\"\u001b[39m\n\u001b[32m    189\u001b[39m             \u001b[33m\"\u001b[39m\u001b[33mTry jacobian, elementwise_grad or holomorphic_grad.\u001b[39m\u001b[33m\"\u001b[39m\n\u001b[32m    190\u001b[39m         )\n",
      "\u001b[36mFile \u001b[39m\u001b[32m~/Documents/engineering/mengsc/semester_3/eeen40290_mengsc_project/workings/code/qml_lqdrl/pl_lqdrl_env/lib64/python3.11/site-packages/autograd/core.py:12\u001b[39m, in \u001b[36mmake_vjp\u001b[39m\u001b[34m(fun, x)\u001b[39m\n\u001b[32m     10\u001b[39m \u001b[38;5;28;01mdef\u001b[39;00m\u001b[38;5;250m \u001b[39m\u001b[34mmake_vjp\u001b[39m(fun, x):\n\u001b[32m     11\u001b[39m     start_node = VJPNode.new_root()\n\u001b[32m---> \u001b[39m\u001b[32m12\u001b[39m     end_value, end_node = \u001b[43mtrace\u001b[49m\u001b[43m(\u001b[49m\u001b[43mstart_node\u001b[49m\u001b[43m,\u001b[49m\u001b[43m \u001b[49m\u001b[43mfun\u001b[49m\u001b[43m,\u001b[49m\u001b[43m \u001b[49m\u001b[43mx\u001b[49m\u001b[43m)\u001b[49m\n\u001b[32m     13\u001b[39m     \u001b[38;5;28;01mif\u001b[39;00m end_node \u001b[38;5;129;01mis\u001b[39;00m \u001b[38;5;28;01mNone\u001b[39;00m:\n\u001b[32m     15\u001b[39m         \u001b[38;5;28;01mdef\u001b[39;00m\u001b[38;5;250m \u001b[39m\u001b[34mvjp\u001b[39m(g):\n",
      "\u001b[36mFile \u001b[39m\u001b[32m~/Documents/engineering/mengsc/semester_3/eeen40290_mengsc_project/workings/code/qml_lqdrl/pl_lqdrl_env/lib64/python3.11/site-packages/autograd/tracer.py:12\u001b[39m, in \u001b[36mtrace\u001b[39m\u001b[34m(start_node, fun, x)\u001b[39m\n\u001b[32m     10\u001b[39m \u001b[38;5;28;01mwith\u001b[39;00m trace_stack.new_trace() \u001b[38;5;28;01mas\u001b[39;00m t:\n\u001b[32m     11\u001b[39m     start_box = new_box(x, t, start_node)\n\u001b[32m---> \u001b[39m\u001b[32m12\u001b[39m     end_box = \u001b[43mfun\u001b[49m\u001b[43m(\u001b[49m\u001b[43mstart_box\u001b[49m\u001b[43m)\u001b[49m\n\u001b[32m     13\u001b[39m     \u001b[38;5;28;01mif\u001b[39;00m isbox(end_box) \u001b[38;5;129;01mand\u001b[39;00m end_box._trace == start_box._trace:\n\u001b[32m     14\u001b[39m         \u001b[38;5;28;01mreturn\u001b[39;00m end_box._value, end_box._node\n",
      "\u001b[36mFile \u001b[39m\u001b[32m~/Documents/engineering/mengsc/semester_3/eeen40290_mengsc_project/workings/code/qml_lqdrl/pl_lqdrl_env/lib64/python3.11/site-packages/autograd/wrap_util.py:17\u001b[39m, in \u001b[36munary_to_nary.<locals>.nary_operator.<locals>.nary_f.<locals>.unary_f\u001b[39m\u001b[34m(x)\u001b[39m\n\u001b[32m     15\u001b[39m \u001b[38;5;28;01melse\u001b[39;00m:\n\u001b[32m     16\u001b[39m     subargs = subvals(args, \u001b[38;5;28mzip\u001b[39m(argnum, x))\n\u001b[32m---> \u001b[39m\u001b[32m17\u001b[39m \u001b[38;5;28;01mreturn\u001b[39;00m \u001b[43mfun\u001b[49m\u001b[43m(\u001b[49m\u001b[43m*\u001b[49m\u001b[43msubargs\u001b[49m\u001b[43m,\u001b[49m\u001b[43m \u001b[49m\u001b[43m*\u001b[49m\u001b[43m*\u001b[49m\u001b[43mkwargs\u001b[49m\u001b[43m)\u001b[49m\n",
      "\u001b[36mCell\u001b[39m\u001b[36m \u001b[39m\u001b[32mIn[10]\u001b[39m\u001b[32m, line 3\u001b[39m, in \u001b[36m<lambda>\u001b[39m\u001b[34m(tp)\u001b[39m\n\u001b[32m      1\u001b[39m opt = qml.GradientDescentOptimizer(stepsize=\u001b[32m0.1\u001b[39m)\n\u001b[32m      2\u001b[39m \u001b[38;5;28;01mfor\u001b[39;00m _ \u001b[38;5;129;01min\u001b[39;00m \u001b[38;5;28mrange\u001b[39m(\u001b[32m10\u001b[39m):\n\u001b[32m----> \u001b[39m\u001b[32m3\u001b[39m     theta_par, loss = opt.step_and_cost(\u001b[38;5;28;01mlambda\u001b[39;00m tp: -\u001b[43mcritic_qnode\u001b[49m\u001b[43m(\u001b[49m\u001b[43mfull_input\u001b[49m\u001b[43m,\u001b[49m\u001b[43m \u001b[49m\u001b[43mtheta\u001b[49m\u001b[43m,\u001b[49m\u001b[43m \u001b[49m\u001b[43mtp\u001b[49m\u001b[43m)\u001b[49m, theta_par)\n\u001b[32m      4\u001b[39m     \u001b[38;5;28mprint\u001b[39m(\u001b[33m\"\u001b[39m\u001b[33mLoss:\u001b[39m\u001b[33m\"\u001b[39m, loss)\n",
      "\u001b[36mFile \u001b[39m\u001b[32m~/Documents/engineering/mengsc/semester_3/eeen40290_mengsc_project/workings/code/qml_lqdrl/pl_lqdrl_env/lib64/python3.11/site-packages/pennylane/workflow/qnode.py:1164\u001b[39m, in \u001b[36mQNode.__call__\u001b[39m\u001b[34m(self, *args, **kwargs)\u001b[39m\n\u001b[32m   1162\u001b[39m \u001b[38;5;28;01mif\u001b[39;00m qml.capture.enabled():\n\u001b[32m   1163\u001b[39m     \u001b[38;5;28;01mreturn\u001b[39;00m qml.capture.qnode_call(\u001b[38;5;28mself\u001b[39m, *args, **kwargs)\n\u001b[32m-> \u001b[39m\u001b[32m1164\u001b[39m \u001b[38;5;28;01mreturn\u001b[39;00m \u001b[38;5;28;43mself\u001b[39;49m\u001b[43m.\u001b[49m\u001b[43m_impl_call\u001b[49m\u001b[43m(\u001b[49m\u001b[43m*\u001b[49m\u001b[43margs\u001b[49m\u001b[43m,\u001b[49m\u001b[43m \u001b[49m\u001b[43m*\u001b[49m\u001b[43m*\u001b[49m\u001b[43mkwargs\u001b[49m\u001b[43m)\u001b[49m\n",
      "\u001b[36mFile \u001b[39m\u001b[32m~/Documents/engineering/mengsc/semester_3/eeen40290_mengsc_project/workings/code/qml_lqdrl/pl_lqdrl_env/lib64/python3.11/site-packages/pennylane/workflow/qnode.py:1144\u001b[39m, in \u001b[36mQNode._impl_call\u001b[39m\u001b[34m(self, *args, **kwargs)\u001b[39m\n\u001b[32m   1141\u001b[39m     override_shots = kwargs[\u001b[33m\"\u001b[39m\u001b[33mshots\u001b[39m\u001b[33m\"\u001b[39m]\n\u001b[32m   1143\u001b[39m \u001b[38;5;66;03m# construct the tape\u001b[39;00m\n\u001b[32m-> \u001b[39m\u001b[32m1144\u001b[39m \u001b[38;5;28;43mself\u001b[39;49m\u001b[43m.\u001b[49m\u001b[43mconstruct\u001b[49m\u001b[43m(\u001b[49m\u001b[43margs\u001b[49m\u001b[43m,\u001b[49m\u001b[43m \u001b[49m\u001b[43mkwargs\u001b[49m\u001b[43m)\u001b[49m\n\u001b[32m   1146\u001b[39m original_grad_fn = [\u001b[38;5;28mself\u001b[39m.gradient_fn, \u001b[38;5;28mself\u001b[39m.gradient_kwargs, \u001b[38;5;28mself\u001b[39m.device]\n\u001b[32m   1147\u001b[39m \u001b[38;5;28mself\u001b[39m._update_gradient_fn(shots=override_shots, tape=\u001b[38;5;28mself\u001b[39m._tape)\n",
      "\u001b[36mFile \u001b[39m\u001b[32m~/Documents/engineering/mengsc/semester_3/eeen40290_mengsc_project/workings/code/qml_lqdrl/pl_lqdrl_env/lib64/python3.11/site-packages/pennylane/logging/decorators.py:61\u001b[39m, in \u001b[36mlog_string_debug_func.<locals>.wrapper_entry\u001b[39m\u001b[34m(*args, **kwargs)\u001b[39m\n\u001b[32m     54\u001b[39m     s_caller = \u001b[33m\"\u001b[39m\u001b[33m::L\u001b[39m\u001b[33m\"\u001b[39m.join(\n\u001b[32m     55\u001b[39m         [\u001b[38;5;28mstr\u001b[39m(i) \u001b[38;5;28;01mfor\u001b[39;00m i \u001b[38;5;129;01min\u001b[39;00m inspect.getouterframes(inspect.currentframe(), \u001b[32m2\u001b[39m)[\u001b[32m1\u001b[39m][\u001b[32m1\u001b[39m:\u001b[32m3\u001b[39m]]\n\u001b[32m     56\u001b[39m     )\n\u001b[32m     57\u001b[39m     lgr.debug(\n\u001b[32m     58\u001b[39m         \u001b[33mf\u001b[39m\u001b[33m\"\u001b[39m\u001b[33mCalling \u001b[39m\u001b[38;5;132;01m{\u001b[39;00mf_string\u001b[38;5;132;01m}\u001b[39;00m\u001b[33m from \u001b[39m\u001b[38;5;132;01m{\u001b[39;00ms_caller\u001b[38;5;132;01m}\u001b[39;00m\u001b[33m\"\u001b[39m,\n\u001b[32m     59\u001b[39m         **_debug_log_kwargs,\n\u001b[32m     60\u001b[39m     )\n\u001b[32m---> \u001b[39m\u001b[32m61\u001b[39m \u001b[38;5;28;01mreturn\u001b[39;00m \u001b[43mfunc\u001b[49m\u001b[43m(\u001b[49m\u001b[43m*\u001b[49m\u001b[43margs\u001b[49m\u001b[43m,\u001b[49m\u001b[43m \u001b[49m\u001b[43m*\u001b[49m\u001b[43m*\u001b[49m\u001b[43mkwargs\u001b[49m\u001b[43m)\u001b[49m\n",
      "\u001b[36mFile \u001b[39m\u001b[32m~/Documents/engineering/mengsc/semester_3/eeen40290_mengsc_project/workings/code/qml_lqdrl/pl_lqdrl_env/lib64/python3.11/site-packages/pennylane/workflow/qnode.py:966\u001b[39m, in \u001b[36mQNode.construct\u001b[39m\u001b[34m(self, args, kwargs)\u001b[39m\n\u001b[32m    964\u001b[39m \u001b[38;5;28;01mwith\u001b[39;00m pldb_device_manager(\u001b[38;5;28mself\u001b[39m.device):\n\u001b[32m    965\u001b[39m     \u001b[38;5;28;01mwith\u001b[39;00m qml.queuing.AnnotatedQueue() \u001b[38;5;28;01mas\u001b[39;00m q:\n\u001b[32m--> \u001b[39m\u001b[32m966\u001b[39m         \u001b[38;5;28mself\u001b[39m._qfunc_output = \u001b[38;5;28;43mself\u001b[39;49m\u001b[43m.\u001b[49m\u001b[43mfunc\u001b[49m\u001b[43m(\u001b[49m\u001b[43m*\u001b[49m\u001b[43margs\u001b[49m\u001b[43m,\u001b[49m\u001b[43m \u001b[49m\u001b[43m*\u001b[49m\u001b[43m*\u001b[49m\u001b[43mkwargs\u001b[49m\u001b[43m)\u001b[49m\n\u001b[32m    968\u001b[39m \u001b[38;5;28mself\u001b[39m._tape = QuantumScript.from_queue(q, shots)\n\u001b[32m    970\u001b[39m params = \u001b[38;5;28mself\u001b[39m.tape.get_parameters(trainable_only=\u001b[38;5;28;01mFalse\u001b[39;00m)\n",
      "\u001b[36mCell\u001b[39m\u001b[36m \u001b[39m\u001b[32mIn[3]\u001b[39m\u001b[32m, line 15\u001b[39m, in \u001b[36mmake_critic_qnode.<locals>.critic_qnode\u001b[39m\u001b[34m(critic_input, theta, theta_par)\u001b[39m\n\u001b[32m     12\u001b[39m     qml.CZ(wires=[i, i+\u001b[32m1\u001b[39m])\n\u001b[32m     14\u001b[39m \u001b[38;5;28;01mfor\u001b[39;00m i \u001b[38;5;129;01min\u001b[39;00m \u001b[38;5;28mrange\u001b[39m(\u001b[32m0\u001b[39m, n_qubits):\n\u001b[32m---> \u001b[39m\u001b[32m15\u001b[39m     qml.RY(\u001b[43mtheta_par\u001b[49m\u001b[43m[\u001b[49m\u001b[43mi\u001b[49m\u001b[43m]\u001b[49m, wires=i)\n\u001b[32m     17\u001b[39m \u001b[38;5;66;03m# Q-value output (e.g., Z₀ expectation)\u001b[39;00m\n\u001b[32m     18\u001b[39m \u001b[38;5;66;03m#return [qml.expval(qml.PauliZ(i)) for i in range(n_qubits)]\u001b[39;00m\n\u001b[32m     19\u001b[39m \u001b[38;5;28;01mreturn\u001b[39;00m qml.expval(qml.PauliZ(i))\n",
      "\u001b[36mFile \u001b[39m\u001b[32m~/Documents/engineering/mengsc/semester_3/eeen40290_mengsc_project/workings/code/qml_lqdrl/pl_lqdrl_env/lib64/python3.11/site-packages/autograd/tracer.py:50\u001b[39m, in \u001b[36mprimitive.<locals>.f_wrapped\u001b[39m\u001b[34m(*args, **kwargs)\u001b[39m\n\u001b[32m     48\u001b[39m parents = \u001b[38;5;28mtuple\u001b[39m(box._node \u001b[38;5;28;01mfor\u001b[39;00m _, box \u001b[38;5;129;01min\u001b[39;00m boxed_args)\n\u001b[32m     49\u001b[39m argnums = \u001b[38;5;28mtuple\u001b[39m(argnum \u001b[38;5;28;01mfor\u001b[39;00m argnum, _ \u001b[38;5;129;01min\u001b[39;00m boxed_args)\n\u001b[32m---> \u001b[39m\u001b[32m50\u001b[39m ans = \u001b[43mf_wrapped\u001b[49m\u001b[43m(\u001b[49m\u001b[43m*\u001b[49m\u001b[43margvals\u001b[49m\u001b[43m,\u001b[49m\u001b[43m \u001b[49m\u001b[43m*\u001b[49m\u001b[43m*\u001b[49m\u001b[43mkwargs\u001b[49m\u001b[43m)\u001b[49m\n\u001b[32m     51\u001b[39m node = node_constructor(ans, f_wrapped, argvals, kwargs, argnums, parents)\n\u001b[32m     52\u001b[39m \u001b[38;5;28;01mreturn\u001b[39;00m new_box(ans, trace, node)\n",
      "\u001b[36mFile \u001b[39m\u001b[32m~/Documents/engineering/mengsc/semester_3/eeen40290_mengsc_project/workings/code/qml_lqdrl/pl_lqdrl_env/lib64/python3.11/site-packages/autograd/tracer.py:54\u001b[39m, in \u001b[36mprimitive.<locals>.f_wrapped\u001b[39m\u001b[34m(*args, **kwargs)\u001b[39m\n\u001b[32m     52\u001b[39m     \u001b[38;5;28;01mreturn\u001b[39;00m new_box(ans, trace, node)\n\u001b[32m     53\u001b[39m \u001b[38;5;28;01melse\u001b[39;00m:\n\u001b[32m---> \u001b[39m\u001b[32m54\u001b[39m     \u001b[38;5;28;01mreturn\u001b[39;00m \u001b[43mf_raw\u001b[49m\u001b[43m(\u001b[49m\u001b[43m*\u001b[49m\u001b[43margs\u001b[49m\u001b[43m,\u001b[49m\u001b[43m \u001b[49m\u001b[43m*\u001b[49m\u001b[43m*\u001b[49m\u001b[43mkwargs\u001b[49m\u001b[43m)\u001b[49m\n",
      "\u001b[36mFile \u001b[39m\u001b[32m~/Documents/engineering/mengsc/semester_3/eeen40290_mengsc_project/workings/code/qml_lqdrl/pl_lqdrl_env/lib64/python3.11/site-packages/autograd/numpy/numpy_boxes.py:19\u001b[39m, in \u001b[36mArrayBox.__getitem__\u001b[39m\u001b[34m(A, idx)\u001b[39m\n\u001b[32m     17\u001b[39m \u001b[38;5;129m@primitive\u001b[39m\n\u001b[32m     18\u001b[39m \u001b[38;5;28;01mdef\u001b[39;00m\u001b[38;5;250m \u001b[39m\u001b[34m__getitem__\u001b[39m(A, idx):\n\u001b[32m---> \u001b[39m\u001b[32m19\u001b[39m     \u001b[38;5;28;01mreturn\u001b[39;00m \u001b[43mA\u001b[49m\u001b[43m[\u001b[49m\u001b[43midx\u001b[49m\u001b[43m]\u001b[49m\n",
      "\u001b[36mFile \u001b[39m\u001b[32m~/Documents/engineering/mengsc/semester_3/eeen40290_mengsc_project/workings/code/qml_lqdrl/pl_lqdrl_env/lib64/python3.11/site-packages/pennylane/numpy/tensor.py:187\u001b[39m, in \u001b[36mtensor.__getitem__\u001b[39m\u001b[34m(self, *args, **kwargs)\u001b[39m\n\u001b[32m    186\u001b[39m \u001b[38;5;28;01mdef\u001b[39;00m\u001b[38;5;250m \u001b[39m\u001b[34m__getitem__\u001b[39m(\u001b[38;5;28mself\u001b[39m, *args, **kwargs):\n\u001b[32m--> \u001b[39m\u001b[32m187\u001b[39m     item = \u001b[38;5;28;43msuper\u001b[39;49m\u001b[43m(\u001b[49m\u001b[43m)\u001b[49m\u001b[43m.\u001b[49m\u001b[34;43m__getitem__\u001b[39;49m\u001b[43m(\u001b[49m\u001b[43m*\u001b[49m\u001b[43margs\u001b[49m\u001b[43m,\u001b[49m\u001b[43m \u001b[49m\u001b[43m*\u001b[49m\u001b[43m*\u001b[49m\u001b[43mkwargs\u001b[49m\u001b[43m)\u001b[49m\n\u001b[32m    189\u001b[39m     \u001b[38;5;28;01mif\u001b[39;00m \u001b[38;5;129;01mnot\u001b[39;00m \u001b[38;5;28misinstance\u001b[39m(item, tensor):\n\u001b[32m    190\u001b[39m         item = tensor(item, requires_grad=\u001b[38;5;28mself\u001b[39m.requires_grad)\n",
      "\u001b[31mIndexError\u001b[39m: index 12 is out of bounds for axis 0 with size 12"
     ]
    }
   ],
   "source": [
    "opt = qml.GradientDescentOptimizer(stepsize=0.1)\n",
    "for _ in range(10):\n",
    "    theta_par, loss = opt.step_and_cost(lambda tp: -critic_qnode(full_input, crit_theta, tp), crit_theta_par)\n",
    "    print(\"Loss:\", loss)"
   ]
  },
  {
   "cell_type": "code",
   "execution_count": null,
   "id": "505cd636-b54f-49f5-b031-0c543683926a",
   "metadata": {},
   "outputs": [],
   "source": [
    "# TODO: Implement updating the theta parameter for the RY gates \n",
    "# TODO: Implement updating the x input data vector for the RX gates based on the values stored in the Memory Experience Relay\n",
    "#num_eps = 10\n",
    "#for i in range(num_eps):\n",
    "    "
   ]
  }
 ],
 "metadata": {
  "kernelspec": {
   "display_name": "Python (LQDRL)",
   "language": "python",
   "name": "pl_lqdrl_env"
  },
  "language_info": {
   "codemirror_mode": {
    "name": "ipython",
    "version": 3
   },
   "file_extension": ".py",
   "mimetype": "text/x-python",
   "name": "python",
   "nbconvert_exporter": "python",
   "pygments_lexer": "ipython3",
   "version": "3.11.11"
  }
 },
 "nbformat": 4,
 "nbformat_minor": 5
}
