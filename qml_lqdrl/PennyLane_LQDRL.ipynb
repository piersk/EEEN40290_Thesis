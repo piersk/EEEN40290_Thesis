{
 "cells": [
  {
   "cell_type": "code",
   "execution_count": 16,
   "id": "58f08491-4882-4828-b498-b4e442c5be70",
   "metadata": {},
   "outputs": [],
   "source": [
    "import jax\n",
    "import pennylane as qml\n",
    "from pennylane import numpy as np\n",
    "from pennylane import grad\n",
    "from pennylane.fourier import circuit_spectrum\n",
    "import matplotlib\n",
    "import gymnasium as gym\n",
    "from uav_lqdrl_env import UAV_LQDRL_Environment\n",
    "from quantum_models import QuantumActor, QuantumCritic"
   ]
  },
  {
   "cell_type": "code",
   "execution_count": 2,
   "id": "33990b0a-d359-4cc7-84d8-ff4e90fe527d",
   "metadata": {},
   "outputs": [
    {
     "ename": "NameError",
     "evalue": "name 'n_qubits' is not defined",
     "output_type": "error",
     "traceback": [
      "\u001b[31m---------------------------------------------------------------------------\u001b[39m",
      "\u001b[31mNameError\u001b[39m                                 Traceback (most recent call last)",
      "\u001b[36mCell\u001b[39m\u001b[36m \u001b[39m\u001b[32mIn[2]\u001b[39m\u001b[32m, line 1\u001b[39m\n\u001b[32m----> \u001b[39m\u001b[32m1\u001b[39m dev = qml.device(\u001b[33m\"\u001b[39m\u001b[33mdefault.qubit\u001b[39m\u001b[33m\"\u001b[39m, wires=\u001b[43mn_qubits\u001b[49m)\n\u001b[32m      3\u001b[39m \u001b[38;5;66;03m# Quantum Layer: First LQ Embed Layer\u001b[39;00m\n\u001b[32m      4\u001b[39m \u001b[38;5;28;01mdef\u001b[39;00m\u001b[38;5;250m \u001b[39m\u001b[34mlq_embed_1\u001b[39m(n_qubits, theta, theta_par):\n",
      "\u001b[31mNameError\u001b[39m: name 'n_qubits' is not defined"
     ]
    }
   ],
   "source": [
    "dev = qml.device(\"default.qubit\", wires=n_qubits)\n",
    "\n",
    "# Quantum Layer: First LQ Embed Layer\n",
    "def lq_embed_1(n_qubits, theta, theta_par):\n",
    "    for h in range(n_qubits):\n",
    "        qml.Hadamard(wires=h)\n",
    "    for i in range(n_qubits):\n",
    "        qml.RX(theta[i], wires=i)\n",
    "    for i in range(n_qubits - 1):\n",
    "        qml.CZ(wires=[i, i+1])\n",
    "    for i in range(n_qubits):\n",
    "        qml.RY(theta_par[i], wires=i)\n",
    "\n",
    "# Quantum Layer: Subsequent Layers\n",
    "def lq_embed_m(n_qubits, theta, theta_par):\n",
    "    for i in range(n_qubits):\n",
    "        qml.RX(theta[i], wires=i)\n",
    "    for i in range(n_qubits - 1):\n",
    "        qml.CZ(wires=[i, i+1])\n",
    "    for i in range(n_qubits):\n",
    "        qml.RY(theta_par[i], wires=i)\n",
    "\n",
    "# Full Layerwise Ansatz\n",
    "@qml.qnode(dev, interface=\"autograd\")\n",
    "def critic_qnode(inputs, weights):\n",
    "    lq_embed_1(inputs, weights[0])\n",
    "    for m in range(1, len(weights)):\n",
    "        lq_embed_m(inputs, weights[m])\n",
    "    return qml.expval(qml.PauliZ(0))"
   ]
  },
  {
   "cell_type": "code",
   "execution_count": 55,
   "id": "d0a59ef6-3556-4d54-85ef-68367115cf95",
   "metadata": {},
   "outputs": [],
   "source": [
    "@qml.qnode(dev)\n",
    "def actor_qnode(n_qubits, state_input, theta, theta_par):\n",
    "    # Apply Hadamard\n",
    "    for i in range(n_qubits):\n",
    "        qml.Hadamard(wires=i)\n",
    "    \n",
    "    # RX with state-dependent angle\n",
    "    for i in range(n_qubits):\n",
    "        qml.RX(state_input[i], wires=i)\n",
    "    \n",
    "    # Entanglement (CZ between neighbours)\n",
    "    for i in range(n_qubits - 1):\n",
    "        qml.CZ(wires=[i, i+1])\n",
    "    \n",
    "    # RY with trainable parameter\n",
    "    for i in range(0, n_qubits):\n",
    "        qml.RY(theta_par[i], wires=i)\n",
    "    \n",
    "    # Measurement\n",
    "    return [qml.expval(qml.PauliZ(i)) for i in range(n_qubits)]"
   ]
  },
  {
   "cell_type": "code",
   "execution_count": 56,
   "id": "fd65cab4-315c-45a4-93f2-e2f075f24a29",
   "metadata": {},
   "outputs": [],
   "source": [
    "@qml.qnode(dev)\n",
    "def critic_qnode(n_qubits, critic_input, theta, theta_par):\n",
    "    # Build same ansatz as above, with critic_input\n",
    "    for i in range(n_qubits):\n",
    "        qml.Hadamard(wires=i)\n",
    "        qml.RX(critic_input[i], wires=i)\n",
    "\n",
    "    for i in range(n_qubits - 1):\n",
    "        qml.CZ(wires=[i, i+1])\n",
    "\n",
    "    for i in range(0, n_qubits):\n",
    "        qml.RY(theta_par[i], wires=i)\n",
    "\n",
    "    # Q-value output (e.g., Z₀ expectation)\n",
    "    return [qml.expval(qml.PauliZ(0)) for i in range(n_qubits)]"
   ]
  },
  {
   "cell_type": "code",
   "execution_count": 3,
   "id": "234551e0-909f-4c7f-adc9-a6c98673a505",
   "metadata": {},
   "outputs": [],
   "source": [
    "def make_critic_qnode(n_qubits):\n",
    "    dev = qml.device(\"default.qubit\", wires=n_qubits)\n",
    "    \n",
    "    @qml.qnode(dev)\n",
    "    def critic_qnode(critic_input, theta, theta_par):\n",
    "        # Build same ansatz as above, with critic_input\n",
    "        for i in range(n_qubits):\n",
    "            qml.Hadamard(wires=i)\n",
    "            qml.RX(critic_input[i], wires=i)\n",
    "    \n",
    "        for i in range(n_qubits - 1):\n",
    "            qml.CZ(wires=[i, i+1])\n",
    "    \n",
    "        for i in range(0, n_qubits):\n",
    "            qml.RY(theta_par[i], wires=i)\n",
    "    \n",
    "        # Q-value output (e.g., Z₀ expectation)\n",
    "        #return [qml.expval(qml.PauliZ(i)) for i in range(n_qubits)]\n",
    "        return qml.expval(qml.PauliZ(i))\n",
    "    return critic_qnode\n",
    "\n",
    "def make_actor_qnode(n_qubits):\n",
    "    dev = qml.device(\"default.qubit\", wires=n_qubits)\n",
    "    \n",
    "    @qml.qnode(dev)\n",
    "    def actor_qnode(state_input, theta, theta_par):\n",
    "        # Apply Hadamard\n",
    "        for i in range(n_qubits):\n",
    "            qml.Hadamard(wires=i)\n",
    "        \n",
    "        # RX with state-dependent angle\n",
    "        for i in range(n_qubits):\n",
    "            qml.RX(state_input[i], wires=i)\n",
    "        \n",
    "        # Entanglement (CZ between neighbours)\n",
    "        for i in range(n_qubits - 1):\n",
    "            qml.CZ(wires=[i, i+1])\n",
    "        \n",
    "        # RY with trainable parameter\n",
    "        for i in range(0, n_qubits):\n",
    "            qml.RY(theta_par[i], wires=i)\n",
    "        \n",
    "        # Measurement\n",
    "        #return [qml.expval(qml.PauliZ(i)) for i in range(n_qubits)]\n",
    "        return qml.expval(qml.PauliZ(i))\n",
    "    return actor_qnode"
   ]
  },
  {
   "cell_type": "code",
   "execution_count": 4,
   "id": "61a6918a-568d-4924-a141-93aecf5c79b5",
   "metadata": {},
   "outputs": [
    {
     "name": "stdout",
     "output_type": "stream",
     "text": [
      "12\n",
      "17\n"
     ]
    },
    {
     "data": {
      "text/plain": [
       "'\\n# Forward pass\\nq_vals = actor_qnode(n_qubits, actor_inp_vec, theta, theta_par)\\nq_val = critic_qnode(n_crit_qubits, full_input, crit_theta, crit_theta_par)\\n'"
      ]
     },
     "execution_count": 4,
     "metadata": {},
     "output_type": "execute_result"
    }
   ],
   "source": [
    "# TODO: PROPERLY PORT THE QISKIT VERSION TO PENNYLANE\n",
    "# TODO: IMPORT THE UAV LQDRL GYM ENVIRONMENT TO GET & UPDATE THESE VALUES AFTER EVERY LAYER\n",
    "m_layers = 3\n",
    "E_rem = 500e03\n",
    "num_gus = 4\n",
    "u = []\n",
    "uav_pos = [0, 0, 0]\n",
    "uav_v_max = 30\n",
    "zeta_v = 1\n",
    "uav_v = zeta_v * uav_v_max\n",
    "noma_g = [1, 2, 3]\n",
    "pwr_alloc = 1\n",
    "action_vec = []\n",
    "\n",
    "action_vec.append(uav_v)\n",
    "for k in range(len(noma_g)):\n",
    "    action_vec.append(noma_g[k])\n",
    "action_vec.append(pwr_alloc)\n",
    "\n",
    "actor_inp_vec = []\n",
    "crit_inp_vec = []\n",
    "\n",
    "for i in range(len(uav_pos)):\n",
    "    actor_inp_vec.append(uav_pos[i])\n",
    "actor_inp_vec.append(E_rem)\n",
    "for j in range(2*num_gus):\n",
    "    u.append(j)\n",
    "    actor_inp_vec.append(u[j])\n",
    "\n",
    "full_input = np.concatenate([actor_inp_vec, action_vec])\n",
    "\n",
    "n_qubits = len(actor_inp_vec)\n",
    "print(n_qubits) \n",
    "n_crit_qubits = len(full_input)\n",
    "print(n_crit_qubits)\n",
    "\n",
    "theta = np.zeros(n_qubits, requires_grad=True)\n",
    "theta_par = np.random.randn(n_qubits, requires_grad=True)\n",
    "\n",
    "crit_theta = np.zeros(n_crit_qubits, requires_grad=True)\n",
    "crit_theta_par = np.random.randn(n_crit_qubits, requires_grad=True)\n",
    "\n",
    "critic_qnode = make_critic_qnode(n_crit_qubits)\n",
    "#q_val = critic_qnode(n_crit_qubits, full_input, crit_theta, crit_theta_par)\n",
    "q_val = critic_qnode(full_input, crit_theta, crit_theta_par)\n",
    "\n",
    "actor_qnode = make_actor_qnode(n_qubits)\n",
    "#q_vals = actor_qnode(n_qubits, actor_inp_vec, theta, theta_par)\n",
    "q_vals = actor_qnode(actor_inp_vec, theta, theta_par)\n",
    "\n",
    "'''\n",
    "# Forward pass\n",
    "q_vals = actor_qnode(n_qubits, actor_inp_vec, theta, theta_par)\n",
    "q_val = critic_qnode(n_crit_qubits, full_input, crit_theta, crit_theta_par)\n",
    "'''"
   ]
  },
  {
   "cell_type": "code",
   "execution_count": 7,
   "id": "79df4856-e5a7-4fe2-b1ff-0f7d22c2c1ed",
   "metadata": {},
   "outputs": [],
   "source": [
    "qml.draw_mpl(actor_qnode)(np.ones(n_qubits), np.ones(n_qubits), np.ones(n_qubits))\n",
    "#qml.draw(actor_qnode)(n_qubits, np.ones(n_qubits), np.ones(n_qubits), np.ones(n_qubits))"
   ]
  },
  {
   "cell_type": "code",
   "execution_count": 6,
   "id": "f1673afa-807e-4cc1-a52f-b99c0d383627",
   "metadata": {},
   "outputs": [],
   "source": [
    "qml.draw_mpl(critic_qnode)(np.ones(n_crit_qubits), np.ones(n_crit_qubits), np.ones(n_crit_qubits))"
   ]
  },
  {
   "cell_type": "code",
   "execution_count": 8,
   "id": "8cdcad8e-a68c-4f33-8be7-a3b86627a184",
   "metadata": {},
   "outputs": [
    {
     "name": "stdout",
     "output_type": "stream",
     "text": [
      "[ 1.10475256e-18  2.20050497e-18 -1.04846713e-18  8.11175855e-19\n",
      "  6.74153520e-19 -9.88522767e-19  7.89347303e-18 -4.97898671e-18\n",
      "  1.62918291e-18 -6.53545727e-19  4.11124971e-17  1.67958585e-16]\n"
     ]
    }
   ],
   "source": [
    "actor_grad_fn = qml.grad(actor_qnode, argnum=2)\n",
    "grad_vals = actor_grad_fn(actor_inp_vec, theta, theta_par)\n",
    "print(grad_vals)"
   ]
  },
  {
   "cell_type": "code",
   "execution_count": 12,
   "id": "0f8b21e8-9210-4e24-9f53-155ae626e5fb",
   "metadata": {},
   "outputs": [
    {
     "name": "stdout",
     "output_type": "stream",
     "text": [
      "[ 8.29961052e-20 -2.54388762e-19  4.08687470e-19  1.14778721e-18\n",
      "  3.94974167e-19  8.09070693e-19 -5.04499809e-19  4.06237648e-19\n",
      " -5.83129637e-19  1.30463778e-19 -1.84157087e-19  1.77621797e-19\n",
      "  8.92616715e-19 -1.27332201e-18 -2.91282869e-19 -2.17056644e-17\n",
      " -1.10347274e-16]\n"
     ]
    }
   ],
   "source": [
    "critic_grad_fn = qml.grad(critic_qnode, argnum=2)\n",
    "grad_vals = critic_grad_fn(full_input, crit_theta, crit_theta_par)\n",
    "print(grad_vals)"
   ]
  },
  {
   "cell_type": "code",
   "execution_count": 13,
   "id": "c83c42bf-c25a-4a1e-902a-7cfa28b7db2f",
   "metadata": {},
   "outputs": [
    {
     "name": "stdout",
     "output_type": "stream",
     "text": [
      "Loss: -2.9976021664879227e-15\n",
      "Loss: -2.9976021664879227e-15\n",
      "Loss: -2.9976021664879227e-15\n",
      "Loss: -2.9976021664879227e-15\n",
      "Loss: -2.9976021664879227e-15\n",
      "Loss: -2.9976021664879227e-15\n",
      "Loss: -2.9976021664879227e-15\n",
      "Loss: -2.9976021664879227e-15\n",
      "Loss: -2.9976021664879227e-15\n",
      "Loss: -2.9976021664879227e-15\n"
     ]
    }
   ],
   "source": [
    "opt = qml.GradientDescentOptimizer(stepsize=0.1)\n",
    "for _ in range(10):\n",
    "    theta_par, loss = opt.step_and_cost(lambda tp: -critic_qnode(full_input, crit_theta, tp), crit_theta_par)\n",
    "    print(\"Loss:\", loss)"
   ]
  },
  {
   "cell_type": "code",
   "execution_count": null,
   "id": "505cd636-b54f-49f5-b031-0c543683926a",
   "metadata": {},
   "outputs": [],
   "source": [
    "# TODO: Implement updating the theta parameter for the RY gates \n",
    "# TODO: Implement updating the x input data vector for the RX gates based on the values stored in the Memory Experience Relay\n",
    "#num_eps = 10\n",
    "#for i in range(num_eps):\n",
    "    "
   ]
  },
  {
   "cell_type": "code",
   "execution_count": 15,
   "id": "c9f5eeaa-6e54-4d17-bccd-feed0dc13efa",
   "metadata": {},
   "outputs": [
    {
     "name": "stdout",
     "output_type": "stream",
     "text": [
      "All good so far\n"
     ]
    }
   ],
   "source": [
    "\n",
    "\n",
    "env = UAV_LQDRL_Environment()\n",
    "obs, _ = env.reset()\n",
    "\n",
    "num_episodes = 20\n",
    "\n",
    "print(\"All good so far\")"
   ]
  },
  {
   "cell_type": "code",
   "execution_count": null,
   "id": "b31f5422-3eae-421a-b91c-5c99769bf60a",
   "metadata": {},
   "outputs": [],
   "source": []
  }
 ],
 "metadata": {
  "kernelspec": {
   "display_name": "Python (LQDRL)",
   "language": "python",
   "name": "pl_lqdrl_env"
  },
  "language_info": {
   "codemirror_mode": {
    "name": "ipython",
    "version": 3
   },
   "file_extension": ".py",
   "mimetype": "text/x-python",
   "name": "python",
   "nbconvert_exporter": "python",
   "pygments_lexer": "ipython3",
   "version": "3.11.11"
  }
 },
 "nbformat": 4,
 "nbformat_minor": 5
}
