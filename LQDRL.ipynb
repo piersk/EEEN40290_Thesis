{
 "cells": [
  {
   "cell_type": "code",
   "execution_count": 1,
   "id": "0d71393d-ff4e-4cc3-a0ea-4685ddee3b17",
   "metadata": {},
   "outputs": [],
   "source": [
    "import numpy as np\n",
    "import matplotlib.pyplot as plt\n",
    "import pandas as pd\n",
    "import cmath\n",
    "\n",
    "from matplotlib.colors import ListedColormap\n",
    "\n",
    "from sklearn.datasets import make_circles, make_classification, make_moons\n",
    "from sklearn.gaussian_process import GaussianProcessClassifier\n",
    "from sklearn.gaussian_process.kernels import RBF\n",
    "from sklearn.inspection import DecisionBoundaryDisplay\n",
    "from sklearn.model_selection import train_test_split, GridSearchCV\n",
    "from sklearn.pipeline import make_pipeline, Pipeline\n",
    "from sklearn.preprocessing import StandardScaler, LabelEncoder, MinMaxScaler\n",
    "from sklearn.svm import SVC\n",
    "from sklearn.metrics import accuracy_score, precision_score, recall_score, f1_score\n",
    "\n",
    "from itertools import combinations\n",
    "\n",
    "from qiskit import QuantumCircuit, transpile\n",
    "from qiskit_aer import Aer, AerSimulator\n",
    "from qiskit.quantum_info import Statevector, SparsePauliOp\n",
    "from qiskit.visualization import circuit_drawer, plot_histogram\n",
    "from qiskit.circuit import ParameterVector\n",
    "from qiskit.primitives import StatevectorEstimator\n",
    "\n",
    "from qutip import Qobj, basis, tensor\n",
    "from qutip_qip.operations import gate_sequence_product, Gate, Measurement\n",
    "from qutip_qip.circuit import QubitCircuit"
   ]
  },
  {
   "cell_type": "markdown",
   "id": "2b72b7ba-1f7b-4939-8260-456e86387215",
   "metadata": {},
   "source": [
    "# Layerwise Quantum DRL\n",
    "1. Embed UAV memory experience replay parameter data into qubits 1-N.\n",
    "2. M Layers for updating the parameter theta for gradient descent algorithm using ansatz for LQ-DRL.\n",
    "3. Entire system works like PPO with a $\\theta$ parameter that's updated using gradient descent (computed classically).\n",
    "3. Gradient descent algorithm provides the updated parameter $\\theta$ for the LQ-DRL ansatz.\n",
    "4. Update $\\theta$ in the angle rotation gates for more accurate LQ-DRL computation. \n",
    "5. Repeat until convergence of optimal energy efficiency, secrecy rate, etc. "
   ]
  },
  {
   "cell_type": "markdown",
   "id": "dd07d27e-ab4e-4507-bcc0-a551747b7be9",
   "metadata": {},
   "source": [
    "# Data to be Embedded\n",
    "Must embed data in $n$ qubits $0, 1 \\dots, N-2, N-1$. Table of data to be embedded into the ansatz (quantum circuit) are the following.\n",
    "[WRITE THE TABLE HERE]"
   ]
  },
  {
   "cell_type": "markdown",
   "id": "5d1af961-c873-4594-b446-fa3bcb468a23",
   "metadata": {},
   "source": [
    "# Reward Shaping Function\n",
    "Reward should be allocated based on the energy efficiency $\\eta(t)$ if $R_{k, n}^{sec} \\ge R_{min}^{sec}$, $\\forall k$. \n",
    "\\\n",
    "$\n",
    "\\Large\n",
    "\\begin{align}\n",
    "    R(t) = \n",
    "    \\begin{cases}\n",
    "        \\eta(t), if R_{k, n}^{sec} \\ge R_{min}^{sec}, \\forall k \\\\\n",
    "        0, otherwise\n",
    "    \\end{cases}\n",
    "\\end{align}\n",
    "$"
   ]
  },
  {
   "cell_type": "markdown",
   "id": "1d911af4-ef98-474e-8a7e-8e07e90c3d4c",
   "metadata": {},
   "source": [
    "# Layerwise-Quantum Deep Reinforcement Learning\n",
    "From Silviranti et. al (2025), the actor network takes 12 encoded inputs (state space dimensions for observation are $2K+4$ dimensions, where $K$ is the number of GUs for NOMA user grouping with a phase-based encoding scheme for the data. \n",
    "In the paper, 4 GUs are used within the demonstrated scenario, hence the observation state space has $2(4)+4=12$ dimensions.\n",
    "For ever $N$ element to be encoded, $N$ qubits will be required. \n",
    "For angle encoding, normalise using MinMaxScaler() so that all parameters in the input vector are normalised in the bound of $[-p, p]$, where $p$ is a determined boundary and $p \\in [-2\\pi, 2\\pi]$.  \n",
    "\n",
    "The critic network takes 17 encoded inputs in the study as its inputs are the observation state space $s$ and the action space $a$, which have $2K+4$ and 5 dimensions, respectively. As $K = 4$ in their results, the critic network has $12+5=17$ input. \n",
    "\n",
    "The action space consists of the following:\n",
    "\n",
    "#### UAV Trajectory\n",
    "The trajectory is directly related to the UAV's maneuverability which is controlled by its velocity $v$. \n",
    "\n",
    "$\n",
    "\\Large\n",
    "v = \\zeta_{v} v_{max}\n",
    "$\n",
    "\n",
    "Where $\\zeta_{v} \\in [0, 1]$ is a constant value. $\\zeta_{v}$ should serve as a scaling factor for $v_{max}$ so that the UAV only moves at a scaled fraction of the maximum velocity, i.e., $\\zeta_{v}$ is a float that can have any value between 0 & 1.\n",
    "\n",
    "#### NOMA User Grouping\n",
    "The optimisation of the NOMA user grouping involves the assignment of the best fitted user group for each $k^{th}$ user at time $t$. \n",
    "\n",
    "$\n",
    "\\Large\n",
    "\\begin{Bmatrix}\n",
    "\\begin{bmatrix}\n",
    "u_{1_{1}}(t), \\dots, u_{K_{1}}(t)\n",
    "\\end{bmatrix},\n",
    "\\dots\n",
    "\\begin{bmatrix}\n",
    "u_{1_{N}}(t), \\dots, u_{K_{N}}(t)\n",
    "\\end{bmatrix},\n",
    "\\end{Bmatrix}\n",
    "$\n",
    "\n",
    "#### Transmit Power Allocation\n",
    "Transmit power allocation vectors are sorted from highest to lowest based on the channel gains between the UAV-BS and the user. Higher transmit power is allocated to users with lower channel gains. \n",
    "\n",
    "$\n",
    "\\Large\n",
    "\\begin{Bmatrix}\n",
    "P_{1, n}^{Tx}, \\dots, P_{K, n}^{Tx}\n",
    "\\end{Bmatrix}\n",
    "$"
   ]
  },
  {
   "cell_type": "markdown",
   "id": "3cce7694-f305-4afd-8640-9dac977094f6",
   "metadata": {},
   "source": [
    "# Encoding Operation\n",
    "$\n",
    "\\Large\n",
    "S_{\\textbf{x}}: \\begin{Bmatrix} \n",
    "x_{n}\n",
    "\\end{Bmatrix}_{n=1}^{N}\n",
    "\\xrightarrow[]{} \n",
    "\\begin{Bmatrix}\n",
    "\\phi_{n}\n",
    "\\end{Bmatrix}_{n=1}^{N}\n",
    "$\n",
    "\n",
    "Encoding involves the use of $RX$ gates with the input data scaled by $tanh$, i.e., $\\theta_{n} = tanh(x_{n}), \\forall n$ and the encoding operation can be expressed as $S_{x} = \\bigotimes^{N}_{n=1} RX(tanh(\\theta_{n}))$. \n",
    "\n",
    "Parameter vector update for $\\theta_{g}$, where $G$ is the number of weighted parameters is $S_{\\theta_g} = RY(tanh(\\theta_{g}))$. This value is fed back into the Layerwise Quantum Embedding portion of the quantum circuitry after the encoding operation $S_{\\textbf{x}}$ has occurred. "
   ]
  },
  {
   "cell_type": "markdown",
   "id": "e6ba3705-819d-4379-8a6b-bf096917f9a3",
   "metadata": {},
   "source": [
    "# Layerwise Quantum Embedding \n",
    "$N = $ Number of inputs \n",
    "\n",
    "$M = $ Number of Layers\n",
    "\n",
    "$G = $ Number of weighted parameters\n",
    "\n",
    "$\n",
    "\\Large\n",
    "U_{LQ}^{(1)} (\\theta^{(0)}) = \\bigotimes_{g=1}^{G} \\bigotimes_{n=1}^{N} (S_{\\theta_{g}^{(0)}}^{(1)}) \\begin{pmatrix}\n",
    "\\Pi_{n=1}^{N} CZ(\\phi_{2}^{(0)}|\\phi_{1}^{(0)}) \\otimes \\dots \\otimes CZ(\\phi_{N}^{(0)}|\\phi_{N-1}^{(0)})\n",
    "\\end{pmatrix} (S_{x_{n}}^{(1)})H\n",
    "$\n",
    "\n",
    "First layer contains Hadamard gate. Layers $2 \\le m \\le M$ are made up of the same operations, however, they do not contain the Hadamard gate operation.\n",
    "Embedding of layers m = 2 to M can be expressed in the following manner:\n",
    "\n",
    "$\n",
    "\\Large\n",
    "U_{LQ}^{(2 \\le m \\le M)} (\\theta^{(m-1)}) = \\bigotimes_{m=2}^{M} \\bigotimes_{g=1}^{G} \\bigotimes_{n=1}^{N} (S_{\\theta_{g}^{(0)}}^{(m)}) \\begin{pmatrix}\n",
    "\\Pi_{m=1}^{M} \\Pi_{n=1}^{N} CZ(\\phi_{2}^{(m)}|\\phi_{1}^{(m)}) \\otimes \\dots \\otimes CZ(\\phi_{N}^{(m)}|\\phi_{N-1}^{(m)})\n",
    "\\end{pmatrix} (S_{x_{n}}^{(m)})\n",
    "$\n",
    "\n",
    "This expression denotes the embedding and parameter updating from the classical gradient descent computation, which is computed using the parameter-shift rule. "
   ]
  },
  {
   "cell_type": "markdown",
   "id": "c9a4a36a-5210-4027-ace8-23ab8f10668b",
   "metadata": {},
   "source": [
    "# Decoding Operation \n",
    "The decoding operation involves the basis transformation of a quantum state $\\phi_n$ to the Z-basis for measurement, i.e., the computational state basis consisting of $\\ket{0}$ and $\\ket{1}$ from measurement, which is followed by the decoding operation. \n",
    "The quantum measurement operation can be expressed as \n",
    "\n",
    "$\n",
    "\\Large\n",
    "J^{(1)} (\\theta_{g}^{(0)}) = Z(\\phi_{n}^{(1)})\n",
    "$\n",
    "\n",
    "The measurement must occur $K_{shot}$ number of times. \n",
    "\n",
    "The decoding operation can be expressed as \n",
    "\n",
    "$\n",
    "\\Large\n",
    "y \\xleftarrow[]{} \\frac{1}{K_{shot}} \\sum_{k=1}^{K_{shot}} Z(\\ket{\\phi})\n",
    "$"
   ]
  },
  {
   "cell_type": "markdown",
   "id": "10541fe3-8ebd-429f-ba59-9d76bc3e64dd",
   "metadata": {},
   "source": [
    "# Local Loss Training\n"
   ]
  },
  {
   "cell_type": "markdown",
   "id": "bbc3378e-8d88-4619-af49-81c4eb15bcaf",
   "metadata": {},
   "source": [
    "# Parameter Shift Rule for Gradient Descent Computation\n"
   ]
  },
  {
   "cell_type": "markdown",
   "id": "8fff175a-9c0e-4979-885b-8ffe211e5a4f",
   "metadata": {},
   "source": [
    "# Actor Network\n",
    "The UAVs are multi-agents/actors in the DRL algorithm. \n",
    "They determine the optimal policy based on the observed state $s$ at timestep $t$. \n",
    "The optimal policy $a_{\\pi}$ must be determined by the actor network $\\pi(s|\\theta^{\\pi})$. \n",
    "A reward $r$ is calculated based on $a_{\\pi}$ at the end of every episode and the next state $s'$ is used to update $s$. \n",
    "The actor network quantum circuit takes the observed state space vector as its input."
   ]
  },
  {
   "cell_type": "markdown",
   "id": "44e38ee7-cf99-4279-9b8e-fd82ccdaddac",
   "metadata": {},
   "source": [
    "# Critic Network\n"
   ]
  },
  {
   "cell_type": "markdown",
   "id": "e8fbd735-8495-46c7-918c-0ded9a48355a",
   "metadata": {},
   "source": [
    "# TODO List - Silvirianti et. al (2025) Implementation\n",
    "1. Design & integrate the different layers in the quantum computation for the layerwise embedding process.\n",
    "2. Design the decoding operation for measurement after each layer (measurement in Z-basis, this might require some basis transformations to work).\n",
    "3. Implement the gradient descent algorithm for generating $\\theta_{g}$ after each layer with the use of the parameter shift rule.\n",
    "4. Implement the custom Gymnasium environment for the UAV LQDRL problem and import it to this Notebook.\n",
    "5. Embed the data once, then let the loop run such that it updates the values within the Gym environment based on the calculated parameter changes from the LQ-DRL system. "
   ]
  },
  {
   "cell_type": "markdown",
   "id": "adf14a53-5c84-4165-a3ab-225afddec6ab",
   "metadata": {},
   "source": [
    "# TODO List - LQ-DRL Environment\n",
    "1. Complete the implementation of the UAV_LQDRL_Environment() within the environment program (uav_lqdrl_env.py)"
   ]
  },
  {
   "cell_type": "markdown",
   "id": "19ebb606-c2d9-4524-a816-4bd43e081ae3",
   "metadata": {},
   "source": [
    "# TODO List - Thesis Implementation\n",
    "1. Perform amplitude encoding on the input vector of data such that the number of qubits can be smaller than the number of data points from the input vector to be embedded. \n",
    "   - $N$ qubits can be used to encode $2^N$ data points\n",
    "   - As complexity of $U_{LQ}^{(0)} (\\theta^{(0)})$ as proposed by Silvirianti et. al is $O(N)$, this will decrease the computational complexity of the embedding operation such that it will be $O(log_2(N))$\n",
    "2. Investigate if the number of $M$ layers can be optimised and see if for above a certain value of $M$ if the performance begins to degrade. "
   ]
  },
  {
   "cell_type": "markdown",
   "id": "925c5639-95ab-43ce-9155-f71c2e863d45",
   "metadata": {},
   "source": [
    "# Quantum Logic Gates\n",
    "## Pauli Gates\n",
    "### X Gate\n",
    "$\n",
    "\\Large\n",
    "\\sigma_{x} = \\begin{pmatrix}\n",
    "0 & 1 \\\\\n",
    "1 & 0\n",
    "\\end{pmatrix}\n",
    "$\n",
    "\n",
    "### Y Gate\n",
    "$\n",
    "\\Large\n",
    "\\sigma_{y} = \\begin{pmatrix}\n",
    "0 & -i \\\\\n",
    "i & 0\n",
    "\\end{pmatrix}\n",
    "$\n",
    "\n",
    "### Z Gate\n",
    "$\n",
    "\\Large\n",
    "\\sigma_{z} = \\begin{pmatrix}\n",
    "1 & 0 \\\\\n",
    "0 & 1\n",
    "\\end{pmatrix}\n",
    "$\n",
    "\n",
    "## Rotation Gates\n",
    "### RX Gate\n",
    "$\n",
    "\\Large\n",
    "R_{x} = \\begin{pmatrix}\n",
    "cos(\\frac{\\theta}{2}) & -i \\cdot sin(\\frac{\\theta}{2}) \\\\\n",
    "-i \\cdot sin(\\frac{\\theta}{2}) & cos(\\frac{\\theta}{2})\n",
    "\\end{pmatrix}\n",
    "$\n",
    "\n",
    "### RY Gate\n",
    "$\n",
    "\\Large\n",
    "R_{y} = \\begin{pmatrix}\n",
    "cos(\\frac{\\theta}{2}) & -sin(\\frac{\\theta}{2}) \\\\\n",
    "sin(\\frac{\\theta}{2}) & cos(\\frac{\\theta}{2})\n",
    "\\end{pmatrix}\n",
    "$\n",
    "\n",
    "### RZ Gate\n",
    "$\n",
    "\\Large\n",
    "R_{z} = \\begin{pmatrix}\n",
    "e^{-i\\frac{\\theta}{2}} & 0 \\\\\n",
    "0 & e^{i\\frac{\\theta}{2}}\n",
    "\\end{pmatrix}\n",
    "$"
   ]
  },
  {
   "cell_type": "code",
   "execution_count": 2,
   "id": "a86485a0-6dbc-484f-8b48-b0c0781ea7b8",
   "metadata": {},
   "outputs": [],
   "source": [
    "# Pauli Gates\n",
    "# TODO: BUILD PAULI Z-GATE OF NxN size, i.e., tensor it with N identity matrices\n",
    "def pauli_x():\n",
    "    x = np.array([[0, 1], [1, 0]])\n",
    "    return x\n",
    "    \n",
    "def pauli_y():\n",
    "    y = np.array([[0, -1j], [1j, 0]])\n",
    "    return y\n",
    "\n",
    "def pauli_z():\n",
    "    z = np.array([[1, 0], [0, -1]])\n",
    "    return z"
   ]
  },
  {
   "cell_type": "code",
   "execution_count": 3,
   "id": "e2f60699-694e-490f-b544-1e2163bf95bb",
   "metadata": {},
   "outputs": [],
   "source": [
    "# Controlled Gates\n",
    "def cx_gate():\n",
    "    cx = np.array([[1, 0, 0, 0],\n",
    "                 [0, 1, 0, 0],\n",
    "                 [0, 0, 0, 1],\n",
    "                 [0, 0, 1, 0],])\n",
    "    return cx\n",
    "\n",
    "def cy_gate():\n",
    "    cy = np.array([[1, 0, 0, 0],\n",
    "                 [0, 1, 0, 0],\n",
    "                 [0, 0, 0, -1j],\n",
    "                 [0, 0, 1j, 0],])\n",
    "    return cy\n",
    "\n",
    "def cz_gate():\n",
    "    cz = np.array([[1, 0, 0, 0],\n",
    "                 [0, 1, 0, 0],\n",
    "                 [0, 0, 1, 0],\n",
    "                 [0, 0, 0,-1],])\n",
    "    return cz"
   ]
  },
  {
   "cell_type": "code",
   "execution_count": 4,
   "id": "d9968b8e-0c6e-47dc-9817-9e881c34f702",
   "metadata": {},
   "outputs": [],
   "source": [
    "# Hadamard Gate Matrix of size NxN\n",
    "def hadamard_gate(N):\n",
    "    H = [[1/np.sqrt(2), 1/np.sqrt(2)], [1/np.sqrt(2), -1/np.sqrt(2)]]\n",
    "    return H"
   ]
  },
  {
   "cell_type": "code",
   "execution_count": 5,
   "id": "039dff04-4a5f-4eb2-8d03-c63bfca7987d",
   "metadata": {},
   "outputs": [],
   "source": [
    "# Rotation Gates\n",
    "def rx_gate(theta): \n",
    "    r_x = np.array([[np.cos(theta/2), -1j*np.sin(theta/2)], [-1j*np.sin(theta/2), np.cos(theta/2)]])\n",
    "    return r_x\n",
    "\n",
    "def ry_gate(theta, N):\n",
    "    r_y = [[np.cos(theta/2), -np.sin(theta/2)], [np.sin(theta/2), np.cos(theta/2)]]\n",
    "    return r_y\n",
    "    \n",
    "def rz_gate(theta, N):\n",
    "    r_z = [[np.exp(-i * (theta/2)), 0], [0, np.exp(i * (theta/2))]]\n",
    "    return r_z"
   ]
  },
  {
   "cell_type": "code",
   "execution_count": 6,
   "id": "c9ca4cb2-8e7c-4e3d-88ac-aee0ded6af3b",
   "metadata": {},
   "outputs": [],
   "source": [
    "# Function to scale the vector of input data (x) following the distribution of the hyperbolic tangent\n",
    "# Input vector contains the UAV position, remaining energy & the NOMA user grouping (2K+4 state space dimensions) \n",
    "# For 4 GUs, this means that there are 12 state space dimensions being embedded into the LQ-DRL circuit\n",
    "def x_angle_transformation(N, inp_vec):\n",
    "    #x_arr = [0 for i in range(N)]\n",
    "    x_arr = []\n",
    "    for i in range(N):\n",
    "        x_arr.append(np.tanh(inp_vec[i-1]))\n",
    "    return x_arr"
   ]
  },
  {
   "cell_type": "code",
   "execution_count": 7,
   "id": "3771064f-38ce-443a-8887-2195ef89d972",
   "metadata": {},
   "outputs": [],
   "source": [
    "# Function to generate the first layer including the quantum embedding of the G weighted parameters\n",
    "# In this case, G = N, so including M & G as parameters to the function is somewhat redundant \n",
    "# Function should only be called for the 1st layer\n",
    "# Theta parameters for the RX & RY gates are stored in a vector of N & G elements, respectively \n",
    "def lq_embed_1(qc, N, theta, theta_par):\n",
    "    for h in range(N):\n",
    "        qc.h(h)\n",
    "    for n in range(N):\n",
    "        qc.rx(theta[n], n)\n",
    "    for o in range(N-1):\n",
    "        qc.cz(o, o+1)\n",
    "    for g in range(N):\n",
    "        qc.ry(theta_par[g], g)\n",
    "    return qc"
   ]
  },
  {
   "cell_type": "code",
   "execution_count": 8,
   "id": "cd273cfa-3525-4e6e-94b7-88fd2ad1aaa6",
   "metadata": {},
   "outputs": [],
   "source": [
    "# Function to encode the data and include the parameter updates from the gradient descent algorithm\n",
    "# M layers with N qubits, i.e., the circuit has an MxN quantum volume \n",
    "# Function should only be called once during each layer \n",
    "def lq_embed_m(qc, N, theta, theta_par):\n",
    "    for n in range(N):\n",
    "        qc.rx(theta[n], n)\n",
    "    for o in range(N-1):\n",
    "        qc.cz(o, o+1)\n",
    "    for g in range(N):\n",
    "        qc.ry(theta_par[g], g)\n",
    "    return qc"
   ]
  },
  {
   "cell_type": "code",
   "execution_count": 9,
   "id": "26d345ae-8cf9-4daa-ad5f-e6aec615bf97",
   "metadata": {},
   "outputs": [],
   "source": [
    "def lq_embed_meas(qc, N):\n",
    "    for n in range(N):\n",
    "        qc.z(n)\n",
    "    return qc"
   ]
  },
  {
   "cell_type": "code",
   "execution_count": 10,
   "id": "dc5bffa5-0562-4afc-a8fe-415020fd9bb4",
   "metadata": {},
   "outputs": [],
   "source": [
    "def build_ansatz(N, M, theta_arr, theta_par_arr):\n",
    "    qc = QuantumCircuit(N)\n",
    "    \n",
    "    # First layer (encoding operation & Layer 0)\n",
    "    qc = lq_embed_1(qc, N, theta_arr, theta_par_arr)\n",
    "    \n",
    "    # Remaining M-1 layers\n",
    "    for m in range(1, M):\n",
    "        qc = lq_embed_m(qc, N, theta_arr, theta_par_arr)\n",
    "    \n",
    "    # Basis Transformation for Measurement in the Z-Basis\n",
    "    qc = lq_embed_meas(qc, N)\n",
    "    return qc"
   ]
  },
  {
   "cell_type": "code",
   "execution_count": 12,
   "id": "1a68ee8a-ed70-447b-8801-251d6c169087",
   "metadata": {},
   "outputs": [
    {
     "name": "stdout",
     "output_type": "stream",
     "text": [
      "[-3.14159265 -2.57039399 -1.99919533 -1.42799666 -0.856798   -0.28559933\n",
      "  0.28559933  0.856798    1.42799666  1.99919533  2.57039399]\n"
     ]
    }
   ],
   "source": [
    "# TODO: INPUT DATA VECTOR SHOULD BE MADE HERE\n",
    "# Pass this vector to the x_angle_transformation() function and then pass that function to the build_ansatz() function\n",
    "n_qubits = 12\n",
    "theta_par_inp_vec = np.arange(-np.pi, np.pi, (2*np.pi / (n_qubits - 1)))\n",
    "print(theta_par_inp_vec)"
   ]
  },
  {
   "cell_type": "markdown",
   "id": "b4ee2335-1f62-460f-9a24-f1839d2b75ac",
   "metadata": {},
   "source": [
    "# Actor Network Ansatz Construction & Simulation"
   ]
  },
  {
   "cell_type": "code",
   "execution_count": 13,
   "id": "0bd15842-0adc-45ac-8b8c-ec8e60d51075",
   "metadata": {},
   "outputs": [
    {
     "name": "stdout",
     "output_type": "stream",
     "text": [
      "12\n"
     ]
    }
   ],
   "source": [
    "# Input vector to be embedded & scaled to the tanh distribution must contain the UAV position, remaining energy & the NOMA user grouping \n",
    "# NB: This may be more appropriate to compute within the Gymnasium environment as that contains the energy consumption function within the UAV class \n",
    "# The values can be updated using the parameter-shifting function in uav_lqdrl_env.py\n",
    "# The computation concerned with updating the values, parameters, etc. can be performed within the environment program. The values can also be initialised within the Gym environment. \n",
    "# Will test the values out in the Notebook for now before moving onto integrating the Gym environment with this ansatz\n",
    "n_qubits = 12\n",
    "m_layers = 3\n",
    "E_rem = 500e03\n",
    "num_gus = 4\n",
    "u = []\n",
    "uav_pos = [0, 0, 0]\n",
    "k_shots = 1024\n",
    "\n",
    "inp_vec = []\n",
    "\n",
    "for i in range(len(uav_pos)):\n",
    "    inp_vec.append(uav_pos[i])\n",
    "inp_vec.append(E_rem)\n",
    "for j in range(2*num_gus):\n",
    "    u.append(j)\n",
    "    inp_vec.append(u[j])\n",
    "\n",
    "n_qubits = len(inp_vec)\n",
    "print(n_qubits)\n",
    "theta_par_inp_vec = np.arange(-np.pi, np.pi, (2*np.pi / (n_qubits - 1)))\n",
    "\n",
    "theta_arr = x_angle_transformation(n_qubits, inp_vec)\n",
    "theta_par_arr = x_angle_transformation(n_qubits, theta_par_inp_vec)\n",
    "\n",
    "#print(theta_arr)\n",
    "\n",
    "lqdrl = build_ansatz(n_qubits, m_layers, theta_arr, theta_par_arr)\n",
    "#print(lqdrl)\n",
    "sv = Statevector.from_instruction(lqdrl)\n",
    "#print(sv)\n",
    "\n",
    "lqdrl.measure_all()\n",
    "sim = AerSimulator()\n",
    "tqc = transpile(lqdrl, sim)\n",
    "result = sim.run(tqc, shots=k_shots).result()\n",
    "counts = result.get_counts()"
   ]
  },
  {
   "cell_type": "code",
   "execution_count": 14,
   "id": "1caeb447-fa39-44b2-b5b1-cb243201b1af",
   "metadata": {},
   "outputs": [
    {
     "name": "stdout",
     "output_type": "stream",
     "text": [
      "Measured state: 000100010111\n"
     ]
    }
   ],
   "source": [
    "collapsed_state = list(counts.keys())[0]\n",
    "print(\"Measured state:\", collapsed_state)"
   ]
  },
  {
   "cell_type": "code",
   "execution_count": 18,
   "id": "45611c04-dfd6-45ef-8d40-ceb159e0e38e",
   "metadata": {},
   "outputs": [
    {
     "name": "stdout",
     "output_type": "stream",
     "text": [
      "Measured state: 110100111000\n"
     ]
    }
   ],
   "source": [
    "collapsed_state = list(counts.keys())[10]\n",
    "print(\"Measured state:\", collapsed_state)"
   ]
  },
  {
   "cell_type": "code",
   "execution_count": 19,
   "id": "2331838a-6549-45b3-a9ab-ea553ed7c492",
   "metadata": {},
   "outputs": [
    {
     "data": {
      "image/png": "[encoded data removed]",
      "text/plain": [
       "<Figure size 1000x500 with 1 Axes>"
      ]
     },
     "metadata": {},
     "output_type": "display_data"
    }
   ],
   "source": [
    "qubit_one_counts = np.zeros(n_qubits)\n",
    "qubit_zero_counts = np.zeros(n_qubits)\n",
    "\n",
    "# Loop through all measured bitstrings and accumulate 1s per qubit\n",
    "for bitstring, count in counts.items():\n",
    "    # Qiskit bitstrings are little-endian (qubit 0 is rightmost)\n",
    "    bitstring = bitstring[::-1]  # reverse for correct qubit indexing\n",
    "    for i, bit in enumerate(bitstring):\n",
    "        if bit == '1':\n",
    "            qubit_one_counts[i] += count\n",
    "        elif bit == '0':\n",
    "            qubit_zero_counts[i] += 1\n",
    "\n",
    "# Plot the histogram\n",
    "plt.figure(figsize=(10, 5))\n",
    "plt.bar(range(n_qubits), qubit_one_counts, color='royalblue', label=\"'1' Counts\")\n",
    "plt.bar(range(n_qubits), qubit_zero_counts, color='red', label=\"'0' Counts\")\n",
    "plt.xlabel(\"Qubit Index\")\n",
    "plt.ylabel(\"Count of '1' & '0' Measurements\")\n",
    "plt.title(f\"Number of Times Each Qubit Was Measured in the |0⟩ or |1⟩ State over {k_shots} Shots\")\n",
    "plt.xticks(range(n_qubits))\n",
    "plt.grid(axis='y', linestyle='--', alpha=0.7)\n",
    "plt.tight_layout()\n",
    "plt.legend()\n",
    "plt.show()"
   ]
  },
  {
   "cell_type": "code",
   "execution_count": 15,
   "id": "0a2a80a1-9fd1-423e-a1e9-981ef43a9ee4",
   "metadata": {},
   "outputs": [],
   "source": [
    "sv_df = pd.DataFrame(sv)\n",
    "sv_df.head(10)\n",
    "sv_df.to_csv(\"sv_vals.csv\")"
   ]
  },
  {
   "cell_type": "code",
   "execution_count": 238,
   "id": "d4bf2e72-7faa-49d2-ae73-20a947b2b16b",
   "metadata": {},
   "outputs": [],
   "source": [
    "circuit_drawer(lqdrl, output=\"mpl\")"
   ]
  },
  {
   "cell_type": "code",
   "execution_count": 65,
   "id": "8ca01deb-8339-466f-bb1c-4e96087dfd6c",
   "metadata": {},
   "outputs": [],
   "source": [
    "circuit_drawer(tqc, output=\"mpl\")"
   ]
  },
  {
   "cell_type": "code",
   "execution_count": 11,
   "id": "452a16ac-f318-4cb5-bde4-8344c41037d9",
   "metadata": {},
   "outputs": [
    {
     "name": "stdout",
     "output_type": "stream",
     "text": [
      "0.8\n"
     ]
    }
   ],
   "source": [
    "z = 1 - ((150 - 120) / (150 - 0))\n",
    "print(z)"
   ]
  },
  {
   "cell_type": "markdown",
   "id": "9d5eaf3e-3838-43ee-b21f-c3289a92be94",
   "metadata": {},
   "source": [
    "# Critic Network Ansatz Construction & Simulation\n",
    "17 Inputs (actions & state)"
   ]
  },
  {
   "cell_type": "code",
   "execution_count": 28,
   "id": "72b69c60-55a6-49f5-a363-e0efc1ac3b72",
   "metadata": {},
   "outputs": [
    {
     "name": "stdout",
     "output_type": "stream",
     "text": [
      "17\n"
     ]
    }
   ],
   "source": [
    "#n_crit_qubits = 17\n",
    "m_layers = 3\n",
    "E_rem = 500e03\n",
    "num_gus = 4\n",
    "u = []\n",
    "uav_pos = [0, 0, 0]\n",
    "uav_v_max = 30\n",
    "zeta_v = 1\n",
    "uav_v = zeta_v * uav_v_max\n",
    "noma_g = [1, 2, 3]\n",
    "pwr_alloc = 1\n",
    "action_vec = []\n",
    "\n",
    "action_vec.append(uav_v)\n",
    "for k in range(len(noma_g)):\n",
    "    action_vec.append(noma_g[k])\n",
    "action_vec.append(pwr_alloc)\n",
    "\n",
    "crit_inp_vec = []\n",
    "\n",
    "for i in range(len(uav_pos)):\n",
    "    crit_inp_vec.append(uav_pos[i])\n",
    "crit_inp_vec.append(E_rem)\n",
    "for j in range(2*num_gus):\n",
    "    u.append(j)\n",
    "    crit_inp_vec.append(u[j])\n",
    "crit_inp_vec.append(uav_v)\n",
    "for k in range(len(noma_g)):\n",
    "    crit_inp_vec.append(noma_g[k])\n",
    "crit_inp_vec.append(pwr_alloc)\n",
    "\n",
    "n_crit_qubits = len(crit_inp_vec)\n",
    "print(n_crit_qubits)\n",
    "theta_par_crit_inp_vec = np.arange(-np.pi, np.pi, (2*np.pi / (n_crit_qubits - 1)))\n",
    "\n",
    "theta_crit_arr = x_angle_transformation(n_crit_qubits, crit_inp_vec)\n",
    "theta_crit_par_arr = x_angle_transformation(n_crit_qubits, theta_par_crit_inp_vec)\n",
    "\n",
    "#print(theta_crit_arr)\n",
    "\n",
    "crit_lqdrl = build_ansatz(n_crit_qubits, m_layers, theta_crit_arr, theta_crit_par_arr)\n",
    "#print(lqdrl)\n",
    "sv = Statevector.from_instruction(crit_lqdrl)\n",
    "#print(sv)\n",
    "\n",
    "#crit_lqdrl.measure_all()\n",
    "sim = AerSimulator()\n",
    "crit_tqc = transpile(crit_lqdrl, sim)\n",
    "result = sim.run(crit_tqc, shots=1024).result()\n",
    "#counts = result.get_counts()"
   ]
  },
  {
   "cell_type": "code",
   "execution_count": 30,
   "id": "e90933b7-17eb-4755-8553-52a4e9553faf",
   "metadata": {},
   "outputs": [
    {
     "name": "stdout",
     "output_type": "stream",
     "text": [
      "Critic Q-value (⟨Z₀⟩): 0.050824537446153756\n"
     ]
    }
   ],
   "source": [
    "observable = SparsePauliOp(\"Z\" + \"I\" * (crit_lqdrl.num_qubits - 1))\n",
    "estimator = StatevectorEstimator()\n",
    "\n",
    "result = estimator.run([(crit_lqdrl, observable)]).result()[0].data.evs\n",
    "#q_val = result.data.evs\n",
    "#q_value = result.data[0]['value']\n",
    "print(\"Critic Q-value (⟨Z₀⟩):\", result)\n",
    "#print(\"Critic Q-value (⟨Z₀⟩):\", q_value)"
   ]
  },
  {
   "cell_type": "code",
   "execution_count": 21,
   "id": "836bcaa7-2226-44d6-ab54-755a1e9d221e",
   "metadata": {},
   "outputs": [],
   "source": [
    "def critic_param_shift_gradient(param_idx, state_vec, action_vec, shift=np.pi/2, Omega=1):\n",
    "    full_input = state_vec + action_vec\n",
    "    N = len(full_input)\n",
    "\n",
    "    theta_arr = [np.tanh(x) for x in full_input]\n",
    "    theta_par_arr = np.linspace(-np.pi, np.pi, N)\n",
    "\n",
    "    theta_plus = theta_par_arr.copy()\n",
    "    theta_minus = theta_par_arr.copy()\n",
    "    theta_plus[param_idx] += shift\n",
    "    theta_minus[param_idx] -= shift\n",
    "\n",
    "    qc_plus = QuantumCircuit(N)\n",
    "    qc_plus = lq_embed_1(qc_plus, N, theta_arr, theta_plus)\n",
    "    for _ in range(1, m_layers):\n",
    "        qc_plus = lq_embed_m(qc_plus, N, theta_arr, theta_plus)\n",
    "\n",
    "    qc_minus = QuantumCircuit(N)\n",
    "    qc_minus = lq_embed_1(qc_minus, N, theta_arr, theta_minus)\n",
    "    for _ in range(1, m_layers):\n",
    "        qc_minus = lq_embed_m(qc_minus, N, theta_arr, theta_minus)\n",
    "\n",
    "    observable = SparsePauliOp(\"Z\" + \"I\" * (N - 1))\n",
    "    est = StatevectorEstimator()\n",
    "\n",
    "    val_plus = est.run([(qc_plus, observable)]).result()[0].data.evs\n",
    "    val_minus = est.run([(qc_minus, observable)]).result()[0].data.evs\n",
    "\n",
    "    grad = 0.5 * (val_plus - val_minus)\n",
    "    return grad"
   ]
  },
  {
   "cell_type": "code",
   "execution_count": null,
   "id": "2216d102-98a2-4414-ae08-9f5d2c88852f",
   "metadata": {},
   "outputs": [],
   "source": [
    "def actor_param_shift_gradient(idx, inp_vec, shift=np.pi/2, Omega=1):\n",
    "    N = len(inp_vec)\n",
    "    "
   ]
  },
  {
   "cell_type": "code",
   "execution_count": 22,
   "id": "96e39f38-b653-478b-8745-00bae84c6dbb",
   "metadata": {},
   "outputs": [
    {
     "name": "stdout",
     "output_type": "stream",
     "text": [
      "Gradient w.r.t. θ₀: 4.440892098500626e-16\n"
     ]
    }
   ],
   "source": [
    "grad = critic_param_shift_gradient(0, crit_inp_vec, action_vec)\n",
    "print(\"Gradient w.r.t. θ₀:\", grad)"
   ]
  },
  {
   "cell_type": "code",
   "execution_count": 26,
   "id": "efb1fb0a-69d7-432e-8648-7d5d725f5fe2",
   "metadata": {},
   "outputs": [
    {
     "name": "stdout",
     "output_type": "stream",
     "text": [
      "Array of Gradient Parameters:  [4.163336342344337e-16, 2.0539125955565396e-15, -4.718447854656915e-16, -3.608224830031759e-16, 3.608224830031759e-16, 3.552713678800501e-15, -8.604228440844963e-16, 1.27675647831893e-15, -8.881784197001252e-16, -1.1657341758564144e-15, -8.881784197001252e-16, -6.38378239159465e-16, 1.1657341758564144e-15, 3.608224830031759e-16, 3.885780586188048e-16, -8.326672684688674e-17, -3.3306690738754696e-16]\n"
     ]
    }
   ],
   "source": [
    "grad_arr = []\n",
    "for i in range(n_crit_qubits):\n",
    "    grad = critic_param_shift_gradient(i, crit_inp_vec, action_vec)\n",
    "    grad_arr.append(grad)\n",
    "print(\"Array of Gradient Parameters: \", grad_arr)"
   ]
  },
  {
   "cell_type": "code",
   "execution_count": null,
   "id": "0a4cd631-87c0-4ad3-9630-bc1dd56f1edc",
   "metadata": {},
   "outputs": [],
   "source": []
  },
  {
   "cell_type": "code",
   "execution_count": 23,
   "id": "5d82084c-a19b-4509-9f13-e143ed327c7d",
   "metadata": {},
   "outputs": [
    {
     "name": "stdout",
     "output_type": "stream",
     "text": [
      "Gradient w.r.t. θ₀: 4.440892098500626e-16\n"
     ]
    }
   ],
   "source": [
    "print(\"Gradient w.r.t. θ₀:\", grad)"
   ]
  },
  {
   "cell_type": "code",
   "execution_count": 18,
   "id": "7bdbc594-4bb4-4dd7-a845-d624ef2da269",
   "metadata": {},
   "outputs": [],
   "source": [
    "#circuit_drawer(crit_lqdrl, output=\"mpl\")"
   ]
  },
  {
   "cell_type": "code",
   "execution_count": null,
   "id": "1393ec9b-60fc-483a-a28b-5f5e4cb0fac9",
   "metadata": {},
   "outputs": [],
   "source": [
    "from qiskit.primitives import StatevectorEstimator\n",
    "from qiskit.quantum_info import SparsePauliOp\n",
    "\n",
    "state_vec = [0, 0, 0, 500e3] + [1, 2, 3, 4, 5, 6, 7, 8]\n",
    "action_vec = [0.7, 0.2, 0.9, 0.1, 0.3]  # dummy action\n",
    "\n",
    "critic_qc = build_critic_ansatz(state_vec, action_vec)\n",
    "\n",
    "observable = SparsePauliOp(\"Z\" + \"I\" * (critic_qc.num_qubits - 1))\n",
    "estimator = StatevectorEstimator()\n",
    "\n",
    "result = estimator.run(circuits=[critic_qc], observables=[observable]).result()\n",
    "q_value = result.values[0]\n",
    "\n",
    "print(\"Critic Q-value (⟨Z₀⟩):\", q_value)"
   ]
  },
  {
   "cell_type": "code",
   "execution_count": 13,
   "id": "5961e995-7caa-4558-9072-fbdbb9f109a9",
   "metadata": {},
   "outputs": [],
   "source": [
    "def compute_z_expectation_from_counts(counts, qubit_index, shots=1024):\n",
    "    expectation = 0\n",
    "    for bitstring, count in counts.items():\n",
    "        bit = bitstring[::-1][qubit_index]  # Qiskit stores bitstrings big-endian\n",
    "        z = 1 if bit == '0' else -1\n",
    "        expectation += z * count\n",
    "    return expectation / shots"
   ]
  },
  {
   "cell_type": "code",
   "execution_count": null,
   "id": "a90c646c-6ecb-466e-b39e-2e460808c093",
   "metadata": {},
   "outputs": [],
   "source": [
    "z0_expect_arr = []\n",
    "tot = 0\n",
    "k_shots = 1024 >> 2\n",
    "#k_shots = 1024\n",
    "\n",
    "for i in range(n_qubits):\n",
    "    z0_expect = compute_z_expectation_from_counts(counts, qubit_index=i)\n",
    "    z0_expect_arr.append(z0_expect)\n",
    "    \n",
    "for j in range(k_shots):\n",
    "    tot += z0_expect\n",
    "print(tot)\n",
    "\n",
    "plt.figure(figsize=(12, 10))\n",
    "plt.plot(z0_expect_arr)\n",
    "plt.title(\"Z Expecation Values up to N = 12\")\n",
    "plt.xlabel(\"Qubits\")\n",
    "plt.ylabel(\"Z Expectation Value\")\n",
    "plt.grid()\n",
    "plt.ylim(-0.15, 0.15)\n",
    "plt.show()"
   ]
  },
  {
   "cell_type": "code",
   "execution_count": 36,
   "id": "a2ad9fe9-f3f6-42ce-83c8-b6c6bed306f1",
   "metadata": {},
   "outputs": [],
   "source": [
    "# Function to perform the measurement operation (Z-basis transformation) on the quantum state output of the layerwise quantum embedding \n",
    "def meas_op():\n",
    "    J = 0\n",
    "    return J"
   ]
  },
  {
   "cell_type": "code",
   "execution_count": 37,
   "id": "d021d80e-6761-40f7-99d5-98b78bd35d40",
   "metadata": {},
   "outputs": [],
   "source": [
    "# Function to perform the decoding operation on the output of the measurement operator \n",
    "# TODO: FINISH pauli_z() function for measurement operator\n",
    "# Apply z-gate basis transformation to the entire evolved quantum state phi', sum all of these z-gate applications performed on each qubit and then divide the entire matrix by K_shot\n",
    "# At present, I think that the y output from the decoding & measurement operation blocks should be a vector that is passed to the gradient descent algorithm\n",
    "def decode_op(N, phi, k_shot):\n",
    "    y = []\n",
    "    z = pauli_z(N)\n",
    "    for k in range(k_shot):\n",
    "        y[k] += 1/k_shot * z * phi \n",
    "    return y"
   ]
  },
  {
   "cell_type": "code",
   "execution_count": null,
   "id": "5db07f29-ebc8-4441-9313-812c6fc707a1",
   "metadata": {},
   "outputs": [],
   "source": []
  },
  {
   "cell_type": "code",
   "execution_count": null,
   "id": "24ab8e98-0ec7-4688-8ec1-842bfb3473f7",
   "metadata": {},
   "outputs": [],
   "source": [
    "# Function to perform the computation of the parameter shift rule for the gradient descent computation after the layerwise quantum embedding has occurred\n",
    "# The output of this function will serve as the input for the RY gates in the layerwise quantum embedding ansatz\n",
    "# Output theta' of this function should be a vector of Nx1 dimensions containing all of the updated theta values \n",
    "def param_shift(y):\n",
    "    theta_dash = []\n",
    "\n",
    "    return theta_dash"
   ]
  },
  {
   "cell_type": "code",
   "execution_count": null,
   "id": "54a4b6e3-c429-428e-ab50-f769727468fd",
   "metadata": {},
   "outputs": [],
   "source": [
    "%load_ext autoreload\n",
    "%autoreload 2\n",
    "from uav_lqdrl_env import UAV_LQDRL_Environment"
   ]
  }
 ],
 "metadata": {
  "kernelspec": {
   "display_name": "Python 3 (ipykernel)",
   "language": "python",
   "name": "python3"
  },
  "language_info": {
   "codemirror_mode": {
    "name": "ipython",
    "version": 3
   },
   "file_extension": ".py",
   "mimetype": "text/x-python",
   "name": "python",
   "nbconvert_exporter": "python",
   "pygments_lexer": "ipython3",
   "version": "3.11.11"
  }
 },
 "nbformat": 4,
 "nbformat_minor": 5
}
