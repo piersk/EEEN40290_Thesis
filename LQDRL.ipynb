{
 "cells": [
  {
   "cell_type": "code",
   "execution_count": 130,
   "id": "0d71393d-ff4e-4cc3-a0ea-4685ddee3b17",
   "metadata": {},
   "outputs": [],
   "source": [
    "import numpy as np\n",
    "import matplotlib.pyplot as plt\n",
    "import pandas as pd\n",
    "\n",
    "from matplotlib.colors import ListedColormap\n",
    "\n",
    "from sklearn.datasets import make_circles, make_classification, make_moons\n",
    "from sklearn.gaussian_process import GaussianProcessClassifier\n",
    "from sklearn.gaussian_process.kernels import RBF\n",
    "from sklearn.inspection import DecisionBoundaryDisplay\n",
    "from sklearn.model_selection import train_test_split, GridSearchCV\n",
    "from sklearn.pipeline import make_pipeline, Pipeline\n",
    "from sklearn.preprocessing import StandardScaler, LabelEncoder, MinMaxScaler\n",
    "from sklearn.svm import SVC\n",
    "from sklearn.metrics import accuracy_score, precision_score, recall_score, f1_score\n",
    "\n",
    "from itertools import combinations\n",
    "\n",
    "from qiskit import QuantumCircuit, transpile\n",
    "from qiskit_aer import Aer, AerSimulator\n",
    "from qiskit.quantum_info import Statevector\n",
    "from qiskit.visualization import circuit_drawer"
   ]
  },
  {
   "cell_type": "markdown",
   "id": "2b72b7ba-1f7b-4939-8260-456e86387215",
   "metadata": {},
   "source": [
    "# Layerwise Quantum DRL\n",
    "1. Embed UAV memory experience replay parameter data into qubits 1-N.\n",
    "2. M Layers for updating the parameter theta for gradient descent algorithm using ansatz for LQ-DRL.\n",
    "3. Entire system works like PPO with a $\\theta$ parameter that's updated using gradient descent (computed classically).\n",
    "3. Gradient descent algorithm provides the updated parameter $\\theta$ for the LQ-DRL ansatz.\n",
    "4. Update $\\theta$ in the angle rotation gates for more accurate LQ-DRL computation. \n",
    "5. Repeat until convergence of optimal energy efficiency, secrecy rate, etc. "
   ]
  },
  {
   "cell_type": "markdown",
   "id": "dd07d27e-ab4e-4507-bcc0-a551747b7be9",
   "metadata": {},
   "source": [
    "# Data to be Embedded\n",
    "Must embed data in $n$ qubits $0, 1 \\dots, N-2, N-1$. Table of data to be embedded into the ansatz (quantum circuit) are the following.\n",
    "[WRITE THE TABLE HERE]"
   ]
  },
  {
   "cell_type": "markdown",
   "id": "5d1af961-c873-4594-b446-fa3bcb468a23",
   "metadata": {},
   "source": [
    "# Reward Shaping Function\n",
    "Reward should be allocated based on the energy efficiency $\\eta(t)$ if $R_{k, n}^{sec} \\ge R_{min}^{sec}$, $\\forall k$. \n",
    "\\\n",
    "$\n",
    "\\Large\n",
    "\\begin{align}\n",
    "    R(t) = \n",
    "    \\begin{cases}\n",
    "        \\eta(t), if R_{k, n}^{sec} \\ge R_{min}^{sec}, \\forall k \\\\\n",
    "        0, otherwise\n",
    "    \\end{cases}\n",
    "\\end{align}\n",
    "$"
   ]
  },
  {
   "cell_type": "markdown",
   "id": "1d911af4-ef98-474e-8a7e-8e07e90c3d4c",
   "metadata": {},
   "source": [
    "# Layerwise-Quantum Deep Reinforcement Learning\n",
    "From Silviranti et. al (2025), the actor network takes 12 encoded inputs (state space dimensions for observation are $2K+4$ dimensions, where $K$ is the number of GUs for NOMA user grouping with a phase-based encoding scheme for the data. \n",
    "In the paper, 4 GUs are used within the demonstrated scenario, hence the observation state space has $2(4)+4=12$ dimensions.\n",
    "For ever $N$ element to be encoded, $N$ qubits will be required. \n",
    "For angle encoding, normalise using MinMaxScaler() so that all parameters in the input vector are normalised in the bound of $[-p, p]$, where $p$ is a determined boundary and $p \\in [-2\\pi, 2\\pi]$.  \n",
    "\n",
    "The critic network takes 17 encoded inputs in the study as its inputs are the observation state space $s$ and the action space $a$, which have $2K+4$ and 5 dimensions, respectively. As $K = 4$ in their results, the critic network has $12+5=17$ input. \n",
    "\n",
    "The action space consists of the following:\n",
    "\n",
    "#### UAV Trajectory\n",
    "The trajectory is directly related to the UAV's maneuverability which is controlled by its velocity $v$. \n",
    "\n",
    "$\n",
    "\\Large\n",
    "v = \\zeta_{v} v_{max}\n",
    "$\n",
    "\n",
    "Where $\\zeta_{v} \\in [0, 1]$ is a constant value.\n",
    "\n",
    "#### NOMA User Grouping\n",
    "The optimisation of the NOMA user grouping involves the assignment of the best fitted user group for each $k^{th}$ user at time $t$. \n",
    "\n",
    "$\n",
    "\\Large\n",
    "\\begin{Bmatrix}\n",
    "\\begin{bmatrix}\n",
    "u_{1_{1}}(t), \\dots, u_{K_{1}}(t)\n",
    "\\end{bmatrix},\n",
    "\\dots\n",
    "\\begin{bmatrix}\n",
    "u_{1_{N}}(t), \\dots, u_{K_{N}}(t)\n",
    "\\end{bmatrix},\n",
    "\\end{Bmatrix}\n",
    "$\n",
    "\n",
    "#### Transmit Power Allocation\n",
    "Transmit power allocation vectors are sorted from highest to lowest based on the channel gains between the UAV-BS and the user. Higher transmit power is allocated to users with lower channel gains. \n",
    "\n",
    "$\n",
    "\\Large\n",
    "\\begin{Bmatrix}\n",
    "P_{1, n}^{Tx}, \\dots, P_{K, n}^{Tx}\n",
    "\\end{Bmatrix}\n",
    "$"
   ]
  },
  {
   "cell_type": "markdown",
   "id": "3cce7694-f305-4afd-8640-9dac977094f6",
   "metadata": {},
   "source": [
    "# Encoding Operation\n",
    "$\n",
    "\\Large\n",
    "S_{\\textbf{x}}: \\begin{Bmatrix} \n",
    "x_{n}\n",
    "\\end{Bmatrix}_{n=1}^{N}\n",
    "\\xrightarrow[]{} \n",
    "\\begin{Bmatrix}\n",
    "\\phi_{n}\n",
    "\\end{Bmatrix}_{n=1}^{N}\n",
    "$\n",
    "\n",
    "Encoding involves the use of $RX$ gates with the input data scaled by $tanh$, i.e., $\\theta_{n} = tanh(x_{n}), \\forall n$ and the encoding operation can be expressed as $S_{x} = \\bigotimes^{N}_{n=1} RX(tanh(\\theta_{n}))$. \n",
    "\n",
    "Parameter vector update for $\\theta_{g}$, where $G$ is the number of weighted parameters is $S_{\\theta_g} = RY(tanh(\\theta_{g}))$. This value is fed back into the Layerwise Quantum Embedding portion of the quantum circuitry after the encoding operation $S_{\\textbf{x}}$ has occurred. "
   ]
  },
  {
   "cell_type": "markdown",
   "id": "e6ba3705-819d-4379-8a6b-bf096917f9a3",
   "metadata": {},
   "source": [
    "# Layerwise Quantum Embedding \n",
    "$N = $ Number of inputs \n",
    "\n",
    "$M = $ Number of Layers\n",
    "\n",
    "$G = $ Number of weighted parameters\n",
    "\n",
    "$\n",
    "\\Large\n",
    "U_{LQ}^{(1)} (\\theta^{(0)}) = \\bigotimes_{g=1}^{G} \\bigotimes_{n=1}^{N} (S_{\\theta_{g}^{(0)}}^{(1)}) \\begin{pmatrix}\n",
    "\\Pi_{n=1}^{N} CZ(\\phi_{2}^{(0)}|\\phi_{1}^{(0)}) \\otimes \\dots \\otimes CZ(\\phi_{N}^{(0)}|\\phi_{N-1}^{(0)})\n",
    "\\end{pmatrix} (S_{x_{n}}^{(1)})H\n",
    "$\n",
    "\n",
    "First layer contains Hadamard gate. Layers $2 \\le m \\le M$ are made up of the same operations, however, they do not contain the Hadamard gate operation.\n",
    "Embedding of layers m = 2 to M can be expressed in the following manner:\n",
    "\n",
    "$\n",
    "\\Large\n",
    "U_{LQ}^{(2 \\le m \\le M)} (\\theta^{(m-1)}) = \\bigotimes_{m=2}^{M} \\bigotimes_{g=1}^{G} \\bigotimes_{n=1}^{N} (S_{\\theta_{g}^{(0)}}^{(m)}) \\begin{pmatrix}\n",
    "\\Pi_{m=1}^{M} \\Pi_{n=1}^{N} CZ(\\phi_{2}^{(m)}|\\phi_{1}^{(m)}) \\otimes \\dots \\otimes CZ(\\phi_{N}^{(m)}|\\phi_{N-1}^{(m)})\n",
    "\\end{pmatrix} (S_{x_{n}}^{(m)})\n",
    "$\n",
    "\n",
    "This expression denotes the embedding and parameter updating from the classical gradient descent computation, which is computed using the parameter-shift rule. "
   ]
  },
  {
   "cell_type": "markdown",
   "id": "c9a4a36a-5210-4027-ace8-23ab8f10668b",
   "metadata": {},
   "source": [
    "# Decoding Operation \n",
    "The decoding operation involves the basis transformation of a quantum state $\\phi_n$ to the Z-basis for measurement, i.e., the computational state basis consisting of $\\ket{0}$ and $\\ket{1}$ from measurement, which is followed by the decoding operation. \n",
    "The quantum measurement operation can be expressed as \n",
    "\n",
    "$\n",
    "\\Large\n",
    "J^{(1)} (\\theta_{g}^{(0)}) = Z(\\phi_{n}^{(1)})\n",
    "$\n",
    "\n",
    "The measurement must occur $K_{shot}$ number of times. \n",
    "\n",
    "The decoding operation can be expressed as \n",
    "\n",
    "$\n",
    "\\Large\n",
    "y \\xleftarrow[]{} \\frac{1}{K_{shot}} \\sum_{k=1}^{K_{shot}} Z(\\ket{\\phi})\n",
    "$"
   ]
  },
  {
   "cell_type": "markdown",
   "id": "10541fe3-8ebd-429f-ba59-9d76bc3e64dd",
   "metadata": {},
   "source": [
    "# Local Loss Training\n"
   ]
  },
  {
   "cell_type": "markdown",
   "id": "bbc3378e-8d88-4619-af49-81c4eb15bcaf",
   "metadata": {},
   "source": [
    "# Parameter Shift Rule for Gradient Descent Computation\n"
   ]
  },
  {
   "cell_type": "markdown",
   "id": "8fff175a-9c0e-4979-885b-8ffe211e5a4f",
   "metadata": {},
   "source": [
    "# Actor Network\n",
    "The UAVs are multi-agents/actors in the DRL algorithm. \n",
    "They determine the optimal policy based on the observed state $s$ at timestep $t$. \n",
    "The optimal policy $a_{\\pi}$ must be determined by the actor network $\\pi(s|\\theta^{\\pi})$. \n",
    "A reward $r$ is calculated based on $a_{\\pi}$ at the end of every episode and the next state $s'$ is used to update $s$. \n",
    "The actor network quantum circuit takes the observed state space vector as its input."
   ]
  },
  {
   "cell_type": "markdown",
   "id": "44e38ee7-cf99-4279-9b8e-fd82ccdaddac",
   "metadata": {},
   "source": [
    "# Critic Network\n"
   ]
  },
  {
   "cell_type": "markdown",
   "id": "e8fbd735-8495-46c7-918c-0ded9a48355a",
   "metadata": {},
   "source": [
    "# TODO List - Silvirianti et. al (2025) Implementation\n",
    "1. Design & integrate the different layers in the quantum computation for the layerwise embedding process.\n",
    "2. Design the decoding operation for measurement after each layer (measurement in Z-basis, this might require some basis transformations to work).\n",
    "3. Implement the gradient descent algorithm for generating $\\theta_{g}$ after each layer with the use of the parameter shift rule.\n",
    "4. Determine what parameters will be required for the actor network\n",
    "5. Determine what parameters will be required for the critic network"
   ]
  },
  {
   "cell_type": "markdown",
   "id": "19ebb606-c2d9-4524-a816-4bd43e081ae3",
   "metadata": {},
   "source": [
    "# TODO List - Thesis Implementation\n",
    "1. Perform amplitude encoding on the input vector of data such that the number of qubits can be smaller than the number of data points from the input vector to be embedded. \n",
    "   - $N$ qubits can be used to encode $2^N$ data points\n",
    "   - As complexity of $U_{LQ}^{(0)} (\\theta^{(0)})$ as proposed by Silvirianti et. al is $O(N)$, this will decrease the computational complexity of the embedding operation such that it will be $O(log_2(N))$\n",
    "2. Investigate if the number of $M$ layers can be optimised and see if for above a certain value of $M$ if the performance begins to degrade. "
   ]
  },
  {
   "cell_type": "code",
   "execution_count": null,
   "id": "1e85a185-ced0-4698-a24e-d13c0c7e3963",
   "metadata": {},
   "outputs": [],
   "source": [
    "# TODO: Determine what the input data vector X should contain exactly\n",
    "x = []\n",
    "theta_arr = []\n",
    "n_act_in = 12\n",
    "\n",
    "qc = QuantumCircuit(n_act_in, n_act_in)\n",
    "for i in range(n_act_in):\n",
    "    theta = np.tanh(x[i])\n",
    "    theta_arr.append(theta)\n",
    "    qc.rx(theta, i)"
   ]
  },
  {
   "cell_type": "code",
   "execution_count": 2,
   "id": "de2e2273-319a-4e03-abb4-7aa31dbb1fcc",
   "metadata": {},
   "outputs": [],
   "source": [
    "# Function to generate the first layer including the quantum embedding of the G weighted parameters\n",
    "# In this case, G = N, so including M & G as parameters to the function is somewhat redundant \n",
    "# Function should only be called for the 1st layer\n",
    "# Theta parameters for the RX & RY gates are stored in a vector of N & G elements, respectively \n",
    "def lq_embed_1(qc, N, theta, theta_par):\n",
    "    for h in range(N):\n",
    "        qc.h(h)\n",
    "    for n in range(N):\n",
    "        qc.rx(theta[n], n)\n",
    "    for o in range(N-1):\n",
    "        qc.cz(o, o+1)\n",
    "    for g in range(N):\n",
    "        qc.ry(theta_par[g], g)\n",
    "    return qc"
   ]
  },
  {
   "cell_type": "code",
   "execution_count": 16,
   "id": "2c0da9ae-aaf0-43b7-b080-cf38b7f1b01e",
   "metadata": {},
   "outputs": [],
   "source": [
    "# Function to encode the data and include the parameter updates from the gradient descent algorithm\n",
    "# M layers with N qubits, i.e., the circuit has an MxN quantum volume \n",
    "# Function should only be called once during each layer \n",
    "def lq_embed_m(qc, N, theta, theta_par):\n",
    "    for n in range(N):\n",
    "        qc.rx(theta[n], n)\n",
    "    for o in range(N-1):\n",
    "        qc.cz(o, o+1)\n",
    "    for g in range(N):\n",
    "        qc.ry(theta_par[g], g)\n",
    "    return qc"
   ]
  },
  {
   "cell_type": "code",
   "execution_count": 74,
   "id": "04a15bb6-46db-4b53-9b97-d5a131ec8f23",
   "metadata": {},
   "outputs": [],
   "source": [
    "n_qubits = 12\n",
    "m_layers = 3\n",
    "qc = QuantumCircuit(n_qubits, n_qubits)\n",
    "theta_arr = []\n",
    "theta_par_arr = []\n",
    "\n",
    "# TODO: REMOVE THESE PLACEHOLDER ARRAYS AND UPDATE TO INCLUDE THE TANH DISTRIBUTION FUNCTION FOR THE ANGLE ENCODING\n",
    "# INITIALISE THE FIRST THETA PARAMETER VECTOR FOR THE RY GATES IN THE CIRCUIT AS DETAILED IN THE LQ-DRL PAPER\n",
    "for i in range(0, n_qubits):\n",
    "    theta_arr.append((i / n_qubits) * np.pi)\n",
    "    theta_par_arr.append((i / n_qubits) * np.pi)\n",
    "\n",
    "lqdrl_1 = lq_embed_1(qc, n_qubits, theta_arr, theta_par_arr)\n",
    "#print(lqdrl_1)"
   ]
  },
  {
   "cell_type": "code",
   "execution_count": 75,
   "id": "6f66a8cd-70d9-4fcf-900f-d0f3011449be",
   "metadata": {},
   "outputs": [],
   "source": [
    "qc_m = QuantumCircuit(n_qubits, n_qubits)\n",
    "\n",
    "lqdrl_m = lq_embed_m(qc_m, n_qubits, theta_arr, theta_par_arr)\n",
    "#print(lqdrl_m)"
   ]
  },
  {
   "cell_type": "code",
   "execution_count": 127,
   "id": "c9ca4cb2-8e7c-4e3d-88ac-aee0ded6af3b",
   "metadata": {},
   "outputs": [],
   "source": [
    "# Function to scale the vector of input data (x) following the distribution of the hyperbolic tangent\n",
    "# Input vector contains the UAV position, remaining energy & the NOMA user grouping (2K+4 state space dimensions) \n",
    "# For 4 GUs, this means that there are 12 state space dimensions being embedded into the LQ-DRL circuit\n",
    "def x_angle_transformation(N, inp_vec):\n",
    "    #x_arr = [0 for i in range(N)]\n",
    "    x_arr = []\n",
    "    for i in range(N):\n",
    "        x_arr.append(np.tanh(inp_vec[i-1]))\n",
    "    return x_arr"
   ]
  },
  {
   "cell_type": "code",
   "execution_count": 122,
   "id": "3771064f-38ce-443a-8887-2195ef89d972",
   "metadata": {},
   "outputs": [],
   "source": [
    "# Function to generate the first layer including the quantum embedding of the G weighted parameters\n",
    "# In this case, G = N, so including M & G as parameters to the function is somewhat redundant \n",
    "# Function should only be called for the 1st layer\n",
    "# Theta parameters for the RX & RY gates are stored in a vector of N & G elements, respectively \n",
    "def lq_embed_1(qc, N, theta, theta_par):\n",
    "    for h in range(N):\n",
    "        qc.h(h)\n",
    "    for n in range(N):\n",
    "        qc.rx(theta[n], n)\n",
    "    for o in range(N-1):\n",
    "        qc.cz(o, o+1)\n",
    "    for g in range(N):\n",
    "        qc.ry(theta_par[g], g)\n",
    "    return qc"
   ]
  },
  {
   "cell_type": "code",
   "execution_count": 123,
   "id": "cd273cfa-3525-4e6e-94b7-88fd2ad1aaa6",
   "metadata": {},
   "outputs": [],
   "source": [
    "# Function to encode the data and include the parameter updates from the gradient descent algorithm\n",
    "# M layers with N qubits, i.e., the circuit has an MxN quantum volume \n",
    "# Function should only be called once during each layer \n",
    "def lq_embed_m(qc, N, theta, theta_par):\n",
    "    for n in range(N):\n",
    "        qc.rx(theta[n], n)\n",
    "    for o in range(N-1):\n",
    "        qc.cz(o, o+1)\n",
    "    for g in range(N):\n",
    "        qc.ry(theta_par[g], g)\n",
    "    return qc"
   ]
  },
  {
   "cell_type": "code",
   "execution_count": 124,
   "id": "dc5bffa5-0562-4afc-a8fe-415020fd9bb4",
   "metadata": {},
   "outputs": [],
   "source": [
    "def build_ansatz(N, M, theta_arr, theta_par_arr):\n",
    "    qc = QuantumCircuit(N)\n",
    "    # First layer (encoding operation & Layer 0)\n",
    "    qc = lq_embed_1(qc, N, theta_arr, theta_par_arr)\n",
    "    # Remaining M-1 layers\n",
    "    for m in range(1, M):\n",
    "        qc = lq_embed_m(qc, N, theta_arr, theta_par_arr)\n",
    "    return qc"
   ]
  },
  {
   "cell_type": "code",
   "execution_count": 125,
   "id": "1a68ee8a-ed70-447b-8801-251d6c169087",
   "metadata": {},
   "outputs": [
    {
     "name": "stdout",
     "output_type": "stream",
     "text": [
      "[-3.14159265 -2.57039399 -1.99919533 -1.42799666 -0.856798   -0.28559933\n",
      "  0.28559933  0.856798    1.42799666  1.99919533  2.57039399]\n"
     ]
    }
   ],
   "source": [
    "# TODO: INPUT DATA VECTOR SHOULD BE MADE HERE\n",
    "# Pass this vector to the x_angle_transformation() function and then pass that function to the build_ansatz() function\n",
    "theta_par_inp_vec = np.arange(-np.pi, np.pi, (2*np.pi / (n_qubits - 1)))\n",
    "print(theta_par_inp_vec)"
   ]
  },
  {
   "cell_type": "code",
   "execution_count": 135,
   "id": "0bd15842-0adc-45ac-8b8c-ec8e60d51075",
   "metadata": {},
   "outputs": [
    {
     "data": {
      "image/png": "[encoded data removed]",
      "text/plain": [
       "<Figure size 1977.75x1036.78 with 1 Axes>"
      ]
     },
     "execution_count": 135,
     "metadata": {},
     "output_type": "execute_result"
    }
   ],
   "source": [
    "# Input vector to be embedded & scaled to the tanh distribution must contain the UAV position, remaining energy & the NOMA user grouping \n",
    "# NB: This may be more appropriate to compute within the Gymnasium environment as that contains the energy consumption function within the UAV class \n",
    "# The values can be updated using the parameter-shifting function in uav_lqdrl_env.py\n",
    "# The computation concerned with updating the values, parameters, etc. can be performed within the environment program. The values can also be initialised within the Gym environment. \n",
    "# Will test the values out in the Notebook for now before moving onto integrating the Gym environment with this ansatz\n",
    "#n_qubits = 12\n",
    "E_rem = 500e03\n",
    "num_gus = 4\n",
    "u = []\n",
    "uav_pos = [0, 0, 0]\n",
    "theta_par_inp_vec = np.arange(-np.pi, np.pi, (2*np.pi / (n_qubits - 1)))\n",
    "\n",
    "#inp_vec = [uav_pos, E_rem, [u[k] for k in range(0, num_gus-1)]]\n",
    "#inp_vec = [uav_pos, E_rem, u]\n",
    "inp_vec = []\n",
    "\n",
    "for i in range(len(uav_pos)):\n",
    "    inp_vec.append(uav_pos[i])\n",
    "inp_vec.append(E_rem)\n",
    "for j in range(2*num_gus):\n",
    "    u.append(j)\n",
    "    inp_vec.append(u[j])\n",
    "\n",
    "n_qubits = len(inp_vec)\n",
    "\n",
    "theta_arr = x_angle_transformation(n_qubits, inp_vec)\n",
    "theta_par_arr = x_angle_transformation(n_qubits, theta_par_inp_vec)\n",
    "\n",
    "lqdrl = build_ansatz(n_qubits, m_layers, theta_arr, theta_par_arr)\n",
    "#print(lqdrl)\n",
    "circuit_drawer(lqdrl, output=\"mpl\")"
   ]
  },
  {
   "cell_type": "code",
   "execution_count": 35,
   "id": "5f14970f-3bc5-49d9-9766-a6ef36ad0e5e",
   "metadata": {},
   "outputs": [],
   "source": [
    "# TODO: BUILD PAULI Z-GATE OF NxN size, i.e., tensor it with N identity matrices\n",
    "def pauli_z(N):\n",
    "    z = [[1, 0], [0, -1]]\n",
    "    i = [[1, 0], [0, 1]]\n",
    "    for i in range(N):\n",
    "        z = np.tensordot(z, i)\n",
    "    return z"
   ]
  },
  {
   "cell_type": "code",
   "execution_count": 36,
   "id": "a2ad9fe9-f3f6-42ce-83c8-b6c6bed306f1",
   "metadata": {},
   "outputs": [],
   "source": [
    "# Function to perform the measurement operation (Z-basis transformation) on the quantum state output of the layerwise quantum embedding \n",
    "def meas_op():\n",
    "    J = 0\n",
    "    return J"
   ]
  },
  {
   "cell_type": "code",
   "execution_count": 37,
   "id": "d021d80e-6761-40f7-99d5-98b78bd35d40",
   "metadata": {},
   "outputs": [],
   "source": [
    "# Function to perform the decoding operation on the output of the measurement operator \n",
    "# TODO: FINISH pauli_z() function for measurement operator\n",
    "# Apply z-gate basis transformation to the entire evolved quantum state phi', sum all of these z-gate applications performed on each qubit and then divide the entire matrix by K_shot\n",
    "# At present, I think that the y output from the decoding & measurement operation blocks should be a vector that is passed to the gradient descent algorithm\n",
    "def decode_op(N, phi, k_shot):\n",
    "    y = []\n",
    "    z = pauli_z(N)\n",
    "    for k in range(k_shot):\n",
    "        y[k] += 1/k_shot * z * phi \n",
    "    return y"
   ]
  },
  {
   "cell_type": "code",
   "execution_count": null,
   "id": "24ab8e98-0ec7-4688-8ec1-842bfb3473f7",
   "metadata": {},
   "outputs": [],
   "source": [
    "# Function to perform the computation of the parameter shift rule for the gradient descent computation after the layerwise quantum embedding has occurred\n",
    "# The output of this function will serve as the input for the RY gates in the layerwise quantum embedding ansatz\n",
    "# Output theta' of this function should be a vector of Nx1 dimensions containing all of the updated theta values \n",
    "def param_shift(y):\n",
    "    theta_dash = []\n",
    "\n",
    "    return theta_dash"
   ]
  },
  {
   "cell_type": "code",
   "execution_count": null,
   "id": "54a4b6e3-c429-428e-ab50-f769727468fd",
   "metadata": {},
   "outputs": [],
   "source": []
  }
 ],
 "metadata": {
  "kernelspec": {
   "display_name": "Python 3 (ipykernel)",
   "language": "python",
   "name": "python3"
  },
  "language_info": {
   "codemirror_mode": {
    "name": "ipython",
    "version": 3
   },
   "file_extension": ".py",
   "mimetype": "text/x-python",
   "name": "python",
   "nbconvert_exporter": "python",
   "pygments_lexer": "ipython3",
   "version": "3.11.11"
  }
 },
 "nbformat": 4,
 "nbformat_minor": 5
}
