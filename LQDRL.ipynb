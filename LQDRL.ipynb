{
 "cells": [
  {
   "cell_type": "code",
   "execution_count": 1,
   "id": "0d71393d-ff4e-4cc3-a0ea-4685ddee3b17",
   "metadata": {},
   "outputs": [],
   "source": [
    "import numpy as np\n",
    "import matplotlib.pyplot as plt\n",
    "import pandas as pd\n",
    "\n",
    "from matplotlib.colors import ListedColormap\n",
    "\n",
    "from sklearn.datasets import make_circles, make_classification, make_moons\n",
    "from sklearn.gaussian_process import GaussianProcessClassifier\n",
    "from sklearn.gaussian_process.kernels import RBF\n",
    "from sklearn.inspection import DecisionBoundaryDisplay\n",
    "from sklearn.model_selection import train_test_split, GridSearchCV\n",
    "from sklearn.pipeline import make_pipeline, Pipeline\n",
    "from sklearn.preprocessing import StandardScaler, LabelEncoder, MinMaxScaler\n",
    "from sklearn.svm import SVC\n",
    "from sklearn.metrics import accuracy_score, precision_score, recall_score, f1_score\n",
    "\n",
    "from itertools import combinations\n",
    "\n",
    "from qiskit import QuantumCircuit, transpile\n",
    "from qiskit_aer import Aer, AerSimulator\n",
    "from qiskit.quantum_info import Statevector"
   ]
  },
  {
   "cell_type": "markdown",
   "id": "2b72b7ba-1f7b-4939-8260-456e86387215",
   "metadata": {},
   "source": [
    "# Layerwise Quantum DRL\n",
    "1. Embed UAV memory experience replay parameter data into qubits 1-N.\n",
    "2. M Layers for updating the parameter theta for gradient descent algorithm using ansatz for LQ-DRL.\n",
    "3. Entire system works like PPO with a $\\theta$ parameter that's updated using gradient descent (computed classically).\n",
    "3. Gradient descent algorithm provides the updated parameter $\\theta$ for the LQ-DRL ansatz.\n",
    "4. Update $\\theta$ in the angle rotation gates for more accurate LQ-DRL computation. \n",
    "5. Repeat until convergence of optimal energy efficiency, secrecy rate, etc. "
   ]
  },
  {
   "cell_type": "code",
   "execution_count": 2,
   "id": "2a882782-fd00-4067-8ef4-fb3593c224b4",
   "metadata": {},
   "outputs": [
    {
     "name": "stdout",
     "output_type": "stream",
     "text": [
      "     ┌───┐┌─────────┐     ┌─────────┐           \n",
      "q_0: ┤ H ├┤ Rx(π/4) ├──■──┤ Ry(π/4) ├───────────\n",
      "     ├───┤├─────────┤┌─┴─┐└─────────┘┌─────────┐\n",
      "q_1: ┤ H ├┤ Rx(π/4) ├┤ X ├─────■─────┤ Ry(π/4) ├\n",
      "     ├───┤├─────────┤└───┘   ┌─┴─┐   ├─────────┤\n",
      "q_2: ┤ H ├┤ Rx(π/4) ├────────┤ X ├───┤ Ry(π/4) ├\n",
      "     └───┘└─────────┘        └───┘   └─────────┘\n",
      "q_3: ───────────────────────────────────────────\n",
      "                                                \n",
      "c: 4/═══════════════════════════════════════════\n",
      "                                                \n"
     ]
    }
   ],
   "source": [
    "qc = QuantumCircuit(4, 4)\n",
    "n_qubits = 3\n",
    "n_layers = 1\n",
    "theta = np.pi/4\n",
    "for l in range(0, n_layers):\n",
    "    for i in range(n_qubits):\n",
    "        qc.h(i)\n",
    "    for j in range(n_qubits):\n",
    "        qc.rx(theta, j)\n",
    "        #qc.cx(j, j+1)\n",
    "    for m in range(n_qubits-1):\n",
    "        qc.cx(m, m+1)\n",
    "    for k in range(n_qubits):\n",
    "        qc.ry(theta, k)\n",
    "print(qc)"
   ]
  },
  {
   "cell_type": "code",
   "execution_count": null,
   "id": "4b8f175b-0434-44a4-ab81-361687b23944",
   "metadata": {},
   "outputs": [],
   "source": []
  }
 ],
 "metadata": {
  "kernelspec": {
   "display_name": "Python 3 (ipykernel)",
   "language": "python",
   "name": "python3"
  },
  "language_info": {
   "codemirror_mode": {
    "name": "ipython",
    "version": 3
   },
   "file_extension": ".py",
   "mimetype": "text/x-python",
   "name": "python",
   "nbconvert_exporter": "python",
   "pygments_lexer": "ipython3",
   "version": "3.11.11"
  }
 },
 "nbformat": 4,
 "nbformat_minor": 5
}
